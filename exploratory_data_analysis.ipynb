{
 "cells": [
  {
   "cell_type": "code",
   "execution_count": 131,
   "metadata": {},
   "outputs": [],
   "source": [
    "import numpy as np\n",
    "import pandas as pd\n",
    "import matplotlib.pyplot as plt\n",
    "import seaborn as sns\n",
    "\n",
    "%matplotlib inline"
   ]
  },
  {
   "cell_type": "code",
   "execution_count": 132,
   "metadata": {},
   "outputs": [],
   "source": [
    "candidates = pd.read_csv('data/score_board.csv')"
   ]
  },
  {
   "cell_type": "code",
   "execution_count": 133,
   "metadata": {},
   "outputs": [
    {
     "data": {
      "text/html": [
       "<div>\n",
       "<style scoped>\n",
       "    .dataframe tbody tr th:only-of-type {\n",
       "        vertical-align: middle;\n",
       "    }\n",
       "\n",
       "    .dataframe tbody tr th {\n",
       "        vertical-align: top;\n",
       "    }\n",
       "\n",
       "    .dataframe thead th {\n",
       "        text-align: right;\n",
       "    }\n",
       "</style>\n",
       "<table border=\"1\" class=\"dataframe\">\n",
       "  <thead>\n",
       "    <tr style=\"text-align: right;\">\n",
       "      <th></th>\n",
       "      <th>id</th>\n",
       "      <th>year</th>\n",
       "      <th>gpa</th>\n",
       "      <th>maths_exam</th>\n",
       "      <th>art_exam</th>\n",
       "      <th>language_exam</th>\n",
       "      <th>social_activity</th>\n",
       "      <th>essay_score</th>\n",
       "      <th>interview_score</th>\n",
       "      <th>score</th>\n",
       "      <th>accepted</th>\n",
       "    </tr>\n",
       "  </thead>\n",
       "  <tbody>\n",
       "    <tr>\n",
       "      <th>0</th>\n",
       "      <td>CS-1980-00001</td>\n",
       "      <td>1980</td>\n",
       "      <td>1.674275</td>\n",
       "      <td>0.082557</td>\n",
       "      <td>0.084508</td>\n",
       "      <td>0.008007</td>\n",
       "      <td>4</td>\n",
       "      <td>0.091328</td>\n",
       "      <td>0.012596</td>\n",
       "      <td>276</td>\n",
       "      <td>False</td>\n",
       "    </tr>\n",
       "    <tr>\n",
       "      <th>1</th>\n",
       "      <td>CS-1980-00002</td>\n",
       "      <td>1980</td>\n",
       "      <td>3.743429</td>\n",
       "      <td>0.898700</td>\n",
       "      <td>0.978949</td>\n",
       "      <td>0.937879</td>\n",
       "      <td>4</td>\n",
       "      <td>0.991515</td>\n",
       "      <td>0.999604</td>\n",
       "      <td>857</td>\n",
       "      <td>True</td>\n",
       "    </tr>\n",
       "    <tr>\n",
       "      <th>2</th>\n",
       "      <td>CS-1980-00003</td>\n",
       "      <td>1980</td>\n",
       "      <td>1.500251</td>\n",
       "      <td>0.075756</td>\n",
       "      <td>0.002541</td>\n",
       "      <td>0.216737</td>\n",
       "      <td>3</td>\n",
       "      <td>0.008463</td>\n",
       "      <td>0.001737</td>\n",
       "      <td>276</td>\n",
       "      <td>False</td>\n",
       "    </tr>\n",
       "    <tr>\n",
       "      <th>3</th>\n",
       "      <td>CS-1980-00004</td>\n",
       "      <td>1980</td>\n",
       "      <td>3.047625</td>\n",
       "      <td>0.993001</td>\n",
       "      <td>0.950673</td>\n",
       "      <td>0.763701</td>\n",
       "      <td>5</td>\n",
       "      <td>0.996858</td>\n",
       "      <td>0.949954</td>\n",
       "      <td>841</td>\n",
       "      <td>True</td>\n",
       "    </tr>\n",
       "    <tr>\n",
       "      <th>4</th>\n",
       "      <td>CS-1980-00005</td>\n",
       "      <td>1980</td>\n",
       "      <td>2.884417</td>\n",
       "      <td>0.396614</td>\n",
       "      <td>0.478490</td>\n",
       "      <td>0.180828</td>\n",
       "      <td>3</td>\n",
       "      <td>0.638742</td>\n",
       "      <td>0.182141</td>\n",
       "      <td>554</td>\n",
       "      <td>False</td>\n",
       "    </tr>\n",
       "  </tbody>\n",
       "</table>\n",
       "</div>"
      ],
      "text/plain": [
       "              id  year       gpa  maths_exam  art_exam  language_exam  \\\n",
       "0  CS-1980-00001  1980  1.674275    0.082557  0.084508       0.008007   \n",
       "1  CS-1980-00002  1980  3.743429    0.898700  0.978949       0.937879   \n",
       "2  CS-1980-00003  1980  1.500251    0.075756  0.002541       0.216737   \n",
       "3  CS-1980-00004  1980  3.047625    0.993001  0.950673       0.763701   \n",
       "4  CS-1980-00005  1980  2.884417    0.396614  0.478490       0.180828   \n",
       "\n",
       "   social_activity  essay_score  interview_score  score  accepted  \n",
       "0                4     0.091328         0.012596    276     False  \n",
       "1                4     0.991515         0.999604    857      True  \n",
       "2                3     0.008463         0.001737    276     False  \n",
       "3                5     0.996858         0.949954    841      True  \n",
       "4                3     0.638742         0.182141    554     False  "
      ]
     },
     "execution_count": 133,
     "metadata": {},
     "output_type": "execute_result"
    }
   ],
   "source": [
    "candidates.head()"
   ]
  },
  {
   "cell_type": "code",
   "execution_count": 134,
   "metadata": {},
   "outputs": [],
   "source": [
    "graduates = pd.read_csv('data/graduates.csv')"
   ]
  },
  {
   "cell_type": "code",
   "execution_count": 135,
   "metadata": {},
   "outputs": [
    {
     "data": {
      "text/html": [
       "<div>\n",
       "<style scoped>\n",
       "    .dataframe tbody tr th:only-of-type {\n",
       "        vertical-align: middle;\n",
       "    }\n",
       "\n",
       "    .dataframe tbody tr th {\n",
       "        vertical-align: top;\n",
       "    }\n",
       "\n",
       "    .dataframe thead th {\n",
       "        text-align: right;\n",
       "    }\n",
       "</style>\n",
       "<table border=\"1\" class=\"dataframe\">\n",
       "  <thead>\n",
       "    <tr style=\"text-align: right;\">\n",
       "      <th></th>\n",
       "      <th>id</th>\n",
       "      <th>graduated</th>\n",
       "    </tr>\n",
       "  </thead>\n",
       "  <tbody>\n",
       "    <tr>\n",
       "      <th>0</th>\n",
       "      <td>CS-1980-00002</td>\n",
       "      <td>False</td>\n",
       "    </tr>\n",
       "    <tr>\n",
       "      <th>1</th>\n",
       "      <td>CS-1980-00004</td>\n",
       "      <td>True</td>\n",
       "    </tr>\n",
       "    <tr>\n",
       "      <th>2</th>\n",
       "      <td>CS-1980-00007</td>\n",
       "      <td>True</td>\n",
       "    </tr>\n",
       "    <tr>\n",
       "      <th>3</th>\n",
       "      <td>CS-1980-00008</td>\n",
       "      <td>False</td>\n",
       "    </tr>\n",
       "    <tr>\n",
       "      <th>4</th>\n",
       "      <td>CS-1980-00012</td>\n",
       "      <td>True</td>\n",
       "    </tr>\n",
       "  </tbody>\n",
       "</table>\n",
       "</div>"
      ],
      "text/plain": [
       "              id  graduated\n",
       "0  CS-1980-00002      False\n",
       "1  CS-1980-00004       True\n",
       "2  CS-1980-00007       True\n",
       "3  CS-1980-00008      False\n",
       "4  CS-1980-00012       True"
      ]
     },
     "execution_count": 135,
     "metadata": {},
     "output_type": "execute_result"
    }
   ],
   "source": [
    "graduates.head()"
   ]
  },
  {
   "cell_type": "code",
   "execution_count": 136,
   "metadata": {},
   "outputs": [],
   "source": [
    "students = pd.merge(candidates, graduates, on='id')\n",
    "students = students.drop(['accepted', 'id'], axis=1)"
   ]
  },
  {
   "cell_type": "code",
   "execution_count": 137,
   "metadata": {},
   "outputs": [
    {
     "data": {
      "text/html": [
       "<div>\n",
       "<style scoped>\n",
       "    .dataframe tbody tr th:only-of-type {\n",
       "        vertical-align: middle;\n",
       "    }\n",
       "\n",
       "    .dataframe tbody tr th {\n",
       "        vertical-align: top;\n",
       "    }\n",
       "\n",
       "    .dataframe thead th {\n",
       "        text-align: right;\n",
       "    }\n",
       "</style>\n",
       "<table border=\"1\" class=\"dataframe\">\n",
       "  <thead>\n",
       "    <tr style=\"text-align: right;\">\n",
       "      <th></th>\n",
       "      <th>year</th>\n",
       "      <th>gpa</th>\n",
       "      <th>maths_exam</th>\n",
       "      <th>art_exam</th>\n",
       "      <th>language_exam</th>\n",
       "      <th>social_activity</th>\n",
       "      <th>essay_score</th>\n",
       "      <th>interview_score</th>\n",
       "      <th>score</th>\n",
       "      <th>graduated</th>\n",
       "    </tr>\n",
       "  </thead>\n",
       "  <tbody>\n",
       "    <tr>\n",
       "      <th>0</th>\n",
       "      <td>1980</td>\n",
       "      <td>3.743429</td>\n",
       "      <td>0.898700</td>\n",
       "      <td>0.978949</td>\n",
       "      <td>0.937879</td>\n",
       "      <td>4</td>\n",
       "      <td>0.991515</td>\n",
       "      <td>0.999604</td>\n",
       "      <td>857</td>\n",
       "      <td>False</td>\n",
       "    </tr>\n",
       "    <tr>\n",
       "      <th>1</th>\n",
       "      <td>1980</td>\n",
       "      <td>3.047625</td>\n",
       "      <td>0.993001</td>\n",
       "      <td>0.950673</td>\n",
       "      <td>0.763701</td>\n",
       "      <td>5</td>\n",
       "      <td>0.996858</td>\n",
       "      <td>0.949954</td>\n",
       "      <td>841</td>\n",
       "      <td>True</td>\n",
       "    </tr>\n",
       "    <tr>\n",
       "      <th>2</th>\n",
       "      <td>1980</td>\n",
       "      <td>2.897191</td>\n",
       "      <td>0.718591</td>\n",
       "      <td>0.941583</td>\n",
       "      <td>0.489207</td>\n",
       "      <td>4</td>\n",
       "      <td>0.980957</td>\n",
       "      <td>0.912487</td>\n",
       "      <td>811</td>\n",
       "      <td>True</td>\n",
       "    </tr>\n",
       "    <tr>\n",
       "      <th>3</th>\n",
       "      <td>1980</td>\n",
       "      <td>3.948450</td>\n",
       "      <td>0.953325</td>\n",
       "      <td>0.981074</td>\n",
       "      <td>0.914729</td>\n",
       "      <td>1</td>\n",
       "      <td>0.999489</td>\n",
       "      <td>0.997138</td>\n",
       "      <td>875</td>\n",
       "      <td>False</td>\n",
       "    </tr>\n",
       "    <tr>\n",
       "      <th>4</th>\n",
       "      <td>1980</td>\n",
       "      <td>3.939870</td>\n",
       "      <td>0.452506</td>\n",
       "      <td>0.952712</td>\n",
       "      <td>0.974585</td>\n",
       "      <td>4</td>\n",
       "      <td>0.940924</td>\n",
       "      <td>0.973076</td>\n",
       "      <td>790</td>\n",
       "      <td>True</td>\n",
       "    </tr>\n",
       "  </tbody>\n",
       "</table>\n",
       "</div>"
      ],
      "text/plain": [
       "   year       gpa  maths_exam  art_exam  language_exam  social_activity  \\\n",
       "0  1980  3.743429    0.898700  0.978949       0.937879                4   \n",
       "1  1980  3.047625    0.993001  0.950673       0.763701                5   \n",
       "2  1980  2.897191    0.718591  0.941583       0.489207                4   \n",
       "3  1980  3.948450    0.953325  0.981074       0.914729                1   \n",
       "4  1980  3.939870    0.452506  0.952712       0.974585                4   \n",
       "\n",
       "   essay_score  interview_score  score  graduated  \n",
       "0     0.991515         0.999604    857      False  \n",
       "1     0.996858         0.949954    841       True  \n",
       "2     0.980957         0.912487    811       True  \n",
       "3     0.999489         0.997138    875      False  \n",
       "4     0.940924         0.973076    790       True  "
      ]
     },
     "execution_count": 137,
     "metadata": {},
     "output_type": "execute_result"
    }
   ],
   "source": [
    "students.head()"
   ]
  },
  {
   "cell_type": "markdown",
   "metadata": {},
   "source": [
    "Let's see if there are any null values:"
   ]
  },
  {
   "cell_type": "code",
   "execution_count": 11,
   "metadata": {},
   "outputs": [
    {
     "data": {
      "text/plain": [
       "<matplotlib.axes._subplots.AxesSubplot at 0x7fd1a242e240>"
      ]
     },
     "execution_count": 11,
     "metadata": {},
     "output_type": "execute_result"
    },
    {
     "data": {
      "image/png": "[encoded data removed]",
      "text/plain": [
       "<Figure size 432x288 with 1 Axes>"
      ]
     },
     "metadata": {
      "needs_background": "light"
     },
     "output_type": "display_data"
    }
   ],
   "source": [
    "sbs.heatmap(students.isnull(), yticklabels=False, cbar=False, cmap='viridis')"
   ]
  },
  {
   "cell_type": "markdown",
   "metadata": {},
   "source": [
    "There are none. There might be some nonsense values, though, so let's double check with .info() and .describe()."
   ]
  },
  {
   "cell_type": "code",
   "execution_count": 8,
   "metadata": {},
   "outputs": [
    {
     "name": "stdout",
     "output_type": "stream",
     "text": [
      "<class 'pandas.core.frame.DataFrame'>\n",
      "Int64Index: 7009 entries, 0 to 7008\n",
      "Data columns (total 12 columns):\n",
      "id                 7009 non-null object\n",
      "year               7009 non-null int64\n",
      "gpa                7009 non-null float64\n",
      "maths_exam         7009 non-null float64\n",
      "art_exam           7009 non-null float64\n",
      "language_exam      7009 non-null float64\n",
      "social_activity    7009 non-null int64\n",
      "essay_score        7009 non-null float64\n",
      "interview_score    7009 non-null float64\n",
      "score              7009 non-null int64\n",
      "accepted           7009 non-null bool\n",
      "graduated          7009 non-null bool\n",
      "dtypes: bool(2), float64(6), int64(3), object(1)\n",
      "memory usage: 616.0+ KB\n"
     ]
    }
   ],
   "source": [
    "students.info()"
   ]
  },
  {
   "cell_type": "markdown",
   "metadata": {},
   "source": [
    "All the values are either numeric (great!) or Boolean (so they can be easily ported to numeric). The id object shouldn't, obviously, have any effect on the student status -- it's just a means of identification."
   ]
  },
  {
   "cell_type": "code",
   "execution_count": 9,
   "metadata": {},
   "outputs": [
    {
     "data": {
      "text/html": [
       "<div>\n",
       "<style scoped>\n",
       "    .dataframe tbody tr th:only-of-type {\n",
       "        vertical-align: middle;\n",
       "    }\n",
       "\n",
       "    .dataframe tbody tr th {\n",
       "        vertical-align: top;\n",
       "    }\n",
       "\n",
       "    .dataframe thead th {\n",
       "        text-align: right;\n",
       "    }\n",
       "</style>\n",
       "<table border=\"1\" class=\"dataframe\">\n",
       "  <thead>\n",
       "    <tr style=\"text-align: right;\">\n",
       "      <th></th>\n",
       "      <th>year</th>\n",
       "      <th>gpa</th>\n",
       "      <th>maths_exam</th>\n",
       "      <th>art_exam</th>\n",
       "      <th>language_exam</th>\n",
       "      <th>social_activity</th>\n",
       "      <th>essay_score</th>\n",
       "      <th>interview_score</th>\n",
       "      <th>score</th>\n",
       "    </tr>\n",
       "  </thead>\n",
       "  <tbody>\n",
       "    <tr>\n",
       "      <th>count</th>\n",
       "      <td>7009.000000</td>\n",
       "      <td>7009.000000</td>\n",
       "      <td>7009.000000</td>\n",
       "      <td>7009.000000</td>\n",
       "      <td>7009.000000</td>\n",
       "      <td>7009.000000</td>\n",
       "      <td>7009.000000</td>\n",
       "      <td>7009.000000</td>\n",
       "      <td>7009.000000</td>\n",
       "    </tr>\n",
       "    <tr>\n",
       "      <th>mean</th>\n",
       "      <td>1998.801684</td>\n",
       "      <td>3.594377</td>\n",
       "      <td>0.851056</td>\n",
       "      <td>0.815081</td>\n",
       "      <td>0.814123</td>\n",
       "      <td>3.000143</td>\n",
       "      <td>0.934669</td>\n",
       "      <td>0.936532</td>\n",
       "      <td>853.515623</td>\n",
       "    </tr>\n",
       "    <tr>\n",
       "      <th>std</th>\n",
       "      <td>10.913043</td>\n",
       "      <td>0.329060</td>\n",
       "      <td>0.192624</td>\n",
       "      <td>0.224290</td>\n",
       "      <td>0.227928</td>\n",
       "      <td>1.421410</td>\n",
       "      <td>0.130732</td>\n",
       "      <td>0.131171</td>\n",
       "      <td>105.485478</td>\n",
       "    </tr>\n",
       "    <tr>\n",
       "      <th>min</th>\n",
       "      <td>1980.000000</td>\n",
       "      <td>1.850764</td>\n",
       "      <td>0.009699</td>\n",
       "      <td>0.002378</td>\n",
       "      <td>0.005865</td>\n",
       "      <td>1.000000</td>\n",
       "      <td>0.002230</td>\n",
       "      <td>0.004825</td>\n",
       "      <td>561.000000</td>\n",
       "    </tr>\n",
       "    <tr>\n",
       "      <th>25%</th>\n",
       "      <td>1989.000000</td>\n",
       "      <td>3.420754</td>\n",
       "      <td>0.801365</td>\n",
       "      <td>0.739754</td>\n",
       "      <td>0.733354</td>\n",
       "      <td>2.000000</td>\n",
       "      <td>0.941314</td>\n",
       "      <td>0.944835</td>\n",
       "      <td>783.000000</td>\n",
       "    </tr>\n",
       "    <tr>\n",
       "      <th>50%</th>\n",
       "      <td>1999.000000</td>\n",
       "      <td>3.676011</td>\n",
       "      <td>0.931921</td>\n",
       "      <td>0.912559</td>\n",
       "      <td>0.916296</td>\n",
       "      <td>3.000000</td>\n",
       "      <td>0.985999</td>\n",
       "      <td>0.986613</td>\n",
       "      <td>839.000000</td>\n",
       "    </tr>\n",
       "    <tr>\n",
       "      <th>75%</th>\n",
       "      <td>2008.000000</td>\n",
       "      <td>3.847615</td>\n",
       "      <td>0.979433</td>\n",
       "      <td>0.975063</td>\n",
       "      <td>0.976982</td>\n",
       "      <td>4.000000</td>\n",
       "      <td>0.996801</td>\n",
       "      <td>0.997046</td>\n",
       "      <td>925.000000</td>\n",
       "    </tr>\n",
       "    <tr>\n",
       "      <th>max</th>\n",
       "      <td>2016.000000</td>\n",
       "      <td>3.999989</td>\n",
       "      <td>0.999921</td>\n",
       "      <td>0.999858</td>\n",
       "      <td>0.999942</td>\n",
       "      <td>5.000000</td>\n",
       "      <td>0.999996</td>\n",
       "      <td>0.999996</td>\n",
       "      <td>1115.000000</td>\n",
       "    </tr>\n",
       "  </tbody>\n",
       "</table>\n",
       "</div>"
      ],
      "text/plain": [
       "              year          gpa   maths_exam     art_exam  language_exam  \\\n",
       "count  7009.000000  7009.000000  7009.000000  7009.000000    7009.000000   \n",
       "mean   1998.801684     3.594377     0.851056     0.815081       0.814123   \n",
       "std      10.913043     0.329060     0.192624     0.224290       0.227928   \n",
       "min    1980.000000     1.850764     0.009699     0.002378       0.005865   \n",
       "25%    1989.000000     3.420754     0.801365     0.739754       0.733354   \n",
       "50%    1999.000000     3.676011     0.931921     0.912559       0.916296   \n",
       "75%    2008.000000     3.847615     0.979433     0.975063       0.976982   \n",
       "max    2016.000000     3.999989     0.999921     0.999858       0.999942   \n",
       "\n",
       "       social_activity  essay_score  interview_score        score  \n",
       "count      7009.000000  7009.000000      7009.000000  7009.000000  \n",
       "mean          3.000143     0.934669         0.936532   853.515623  \n",
       "std           1.421410     0.130732         0.131171   105.485478  \n",
       "min           1.000000     0.002230         0.004825   561.000000  \n",
       "25%           2.000000     0.941314         0.944835   783.000000  \n",
       "50%           3.000000     0.985999         0.986613   839.000000  \n",
       "75%           4.000000     0.996801         0.997046   925.000000  \n",
       "max           5.000000     0.999996         0.999996  1115.000000  "
      ]
     },
     "execution_count": 9,
     "metadata": {},
     "output_type": "execute_result"
    }
   ],
   "source": [
    "students.describe()"
   ]
  },
  {
   "cell_type": "markdown",
   "metadata": {},
   "source": [
    "A few observations based off this summary:\n",
    "1. There don't seem to be any nonsensical (out of boundary values). It seems like it's a nice, clean data set.\n",
    "2. The recruitment years span the 1980 - 2016 period. It would make sense to divide the students based off the recruitment year and see how each group performed since the exam difficulty may vary for each cohort.\n",
    "3. The 25% percentile for both the essay score and the interview score fall above the 94% grade mark. This might suggest that the human evaluators are pretty lenient (is every candidate really that good?) and those scores alone might not be too helpful in my predictions, or it might be better to transform them using a binary threshold (below/above average result).\n",
    "4. The average social activity score is three and the standard deviation for it is pretty big (1.42 on a 1-5 scale)."
   ]
  },
  {
   "cell_type": "markdown",
   "metadata": {},
   "source": [
    "### Data visualization\n",
    "Let's start by seeing how many people graduated (total)."
   ]
  },
  {
   "cell_type": "code",
   "execution_count": 12,
   "metadata": {},
   "outputs": [
    {
     "data": {
      "text/plain": [
       "<matplotlib.axes._subplots.AxesSubplot at 0x7fd1a23c6c18>"
      ]
     },
     "execution_count": 12,
     "metadata": {},
     "output_type": "execute_result"
    },
    {
     "data": {
      "image/png": "[encoded data removed]",
      "text/plain": [
       "<Figure size 432x288 with 1 Axes>"
      ]
     },
     "metadata": {},
     "output_type": "display_data"
    }
   ],
   "source": [
    "sns.set_style('whitegrid')\n",
    "sns.countplot(x='graduated', data=students, palette='RdBu_r')"
   ]
  },
  {
   "cell_type": "markdown",
   "metadata": {},
   "source": [
    "This means that about 1 in 3 students has dropped out. There's no info about at what point they dropped out but from the fiscal point of view that sounds like a lot. Out of interest, let's see how this has changed across the years: "
   ]
  },
  {
   "cell_type": "code",
   "execution_count": 26,
   "metadata": {},
   "outputs": [],
   "source": [
    "#TODO"
   ]
  },
  {
   "cell_type": "markdown",
   "metadata": {},
   "source": [
    "Do the scores follow a normal distribution?"
   ]
  },
  {
   "cell_type": "code",
   "execution_count": 94,
   "metadata": {},
   "outputs": [
    {
     "data": {
      "image/png": "[encoded data removed]",
      "text/plain": [
       "<Figure size 432x288 with 1 Axes>"
      ]
     },
     "metadata": {
      "needs_background": "light"
     },
     "output_type": "display_data"
    },
    {
     "name": "stdout",
     "output_type": "stream",
     "text": [
      "\n",
      "\n"
     ]
    },
    {
     "data": {
      "image/png": "[encoded data removed]",
      "text/plain": [
       "<Figure size 432x288 with 1 Axes>"
      ]
     },
     "metadata": {
      "needs_background": "light"
     },
     "output_type": "display_data"
    },
    {
     "name": "stdout",
     "output_type": "stream",
     "text": [
      "\n",
      "\n"
     ]
    },
    {
     "data": {
      "image/png": "[encoded data removed]",
      "text/plain": [
       "<Figure size 432x288 with 1 Axes>"
      ]
     },
     "metadata": {
      "needs_background": "light"
     },
     "output_type": "display_data"
    },
    {
     "name": "stdout",
     "output_type": "stream",
     "text": [
      "\n",
      "\n"
     ]
    },
    {
     "data": {
      "image/png": "[encoded data removed]",
      "text/plain": [
       "<Figure size 432x288 with 1 Axes>"
      ]
     },
     "metadata": {
      "needs_background": "light"
     },
     "output_type": "display_data"
    },
    {
     "name": "stdout",
     "output_type": "stream",
     "text": [
      "\n",
      "\n"
     ]
    },
    {
     "data": {
      "image/png": "[encoded data removed]",
      "text/plain": [
       "<Figure size 432x288 with 1 Axes>"
      ]
     },
     "metadata": {
      "needs_background": "light"
     },
     "output_type": "display_data"
    },
    {
     "name": "stdout",
     "output_type": "stream",
     "text": [
      "\n",
      "\n"
     ]
    },
    {
     "data": {
      "image/png": "[encoded data removed]",
      "text/plain": [
       "<Figure size 432x288 with 1 Axes>"
      ]
     },
     "metadata": {
      "needs_background": "light"
     },
     "output_type": "display_data"
    },
    {
     "name": "stdout",
     "output_type": "stream",
     "text": [
      "\n",
      "\n"
     ]
    },
    {
     "data": {
      "image/png": "[encoded data removed]",
      "text/plain": [
       "<Figure size 432x288 with 1 Axes>"
      ]
     },
     "metadata": {
      "needs_background": "light"
     },
     "output_type": "display_data"
    },
    {
     "name": "stdout",
     "output_type": "stream",
     "text": [
      "\n",
      "\n"
     ]
    }
   ],
   "source": [
    "colnames = list(students.columns.values)[2:-2]\n",
    "del colnames[4] # take only the column names for the scores\n",
    "\n",
    "for index, col in enumerate(colnames):\n",
    "    fig = plt.figure(figsize=(6,4))\n",
    "    students[col].hist(bins=30)\n",
    "    plt.title(col)\n",
    "    plt.show()\n",
    "    print('\\n')"
   ]
  },
  {
   "cell_type": "markdown",
   "metadata": {},
   "source": [
    "All but the total score are left-skewed. The total score looks more like a normal distribution, which is expected: if it was left-skewed as well it would mean most passing candidates were great at everything, and unicorns are rare. The plots for the interview score and the essay score illustrate my earlier remarks.\n",
    "\n",
    "Let's see if there are any straightforward relationships in the data."
   ]
  },
  {
   "cell_type": "code",
   "execution_count": 104,
   "metadata": {
    "scrolled": true
   },
   "outputs": [
    {
     "data": {
      "image/png": "[encoded data removed]",
      "text/plain": [
       "<Figure size 1008x720 with 2 Axes>"
      ]
     },
     "metadata": {
      "needs_background": "light"
     },
     "output_type": "display_data"
    }
   ],
   "source": [
    "corr = students.corr()\n",
    "grid = sns.heatmap(corr, center=0, square=True, linewidths=.3, annot=True, cmap='coolwarm')\n",
    "sns.despine()\n",
    "grid.figure.set_size_inches(14,10)\n",
    "plt.show()"
   ]
  },
  {
   "cell_type": "markdown",
   "metadata": {},
   "source": [
    "A few notes:\n",
    "1. The strongest correlation is between the GPA and the score, but this is probably just an indicator that whatever the score formula, the GPA was a major contributor to it.\n",
    "2. There is no strong correlation between any of the scores and one's graduation status, but there's a weak correlation (>0.1) between the graduation status and the GPA, Maths exam score, social activity score and the total score, respectively. This suggests that these factors might be the best predictors of one's graduation status (but not necessarily great).\n",
    "3. There's a moderately weak (~0.3) correlation between the arts and language exam scores and the interview and essay scores, while there is pretty much no ~(0.0) correlation between the Maths exam score and the interview and essay scores. This may suggest that these two assessment forms favour those who are better at arts and languages (more outspoken and creative, perhaps?) to those who are good at Maths. (Of course, one can be good at all of them, but it's fairly rare.)\n",
    "4. There's also a moderately weak (~0.3) correlation between the GPA and the essay and interview scores, but it's hard to elaborate on that further without knowing what exactly the candidates where graded on."
   ]
  },
  {
   "cell_type": "markdown",
   "metadata": {},
   "source": [
    "### Building a logistic regression model\n",
    "\n",
    "The first model I'm going to use to try to fit the data uses logistic regression."
   ]
  },
  {
   "cell_type": "code",
   "execution_count": 145,
   "metadata": {},
   "outputs": [],
   "source": [
    "from sklearn.model_selection import train_test_split\n",
    "\n",
    "X_train, X_test, y_train, y_test = train_test_split(students.drop('graduated',axis=1), \n",
    "                                                    students['graduated'], test_size=0.30, \n",
    "                                                    random_state=101)"
   ]
  },
  {
   "cell_type": "code",
   "execution_count": 146,
   "metadata": {},
   "outputs": [
    {
     "name": "stderr",
     "output_type": "stream",
     "text": [
      "/home/mkay313/Projects/uni-student-recommendation/venv/lib/python3.7/site-packages/sklearn/linear_model/logistic.py:432: FutureWarning: Default solver will be changed to 'lbfgs' in 0.22. Specify a solver to silence this warning.\n",
      "  FutureWarning)\n"
     ]
    },
    {
     "data": {
      "text/plain": [
       "LogisticRegression(C=1.0, class_weight=None, dual=False, fit_intercept=True,\n",
       "                   intercept_scaling=1, l1_ratio=None, max_iter=100,\n",
       "                   multi_class='warn', n_jobs=None, penalty='l2',\n",
       "                   random_state=None, solver='warn', tol=0.0001, verbose=0,\n",
       "                   warm_start=False)"
      ]
     },
     "execution_count": 146,
     "metadata": {},
     "output_type": "execute_result"
    }
   ],
   "source": [
    "from sklearn.linear_model import LogisticRegression\n",
    "\n",
    "logmodel = LogisticRegression()\n",
    "logmodel.fit(X_train,y_train)"
   ]
  },
  {
   "cell_type": "code",
   "execution_count": 147,
   "metadata": {},
   "outputs": [],
   "source": [
    "predictions = logmodel.predict(X_test)"
   ]
  },
  {
   "cell_type": "code",
   "execution_count": 148,
   "metadata": {},
   "outputs": [
    {
     "name": "stdout",
     "output_type": "stream",
     "text": [
      "              precision    recall  f1-score   support\n",
      "\n",
      "       False       0.58      0.12      0.20       674\n",
      "        True       0.70      0.96      0.81      1429\n",
      "\n",
      "    accuracy                           0.69      2103\n",
      "   macro avg       0.64      0.54      0.51      2103\n",
      "weighted avg       0.66      0.69      0.61      2103\n",
      "\n"
     ]
    }
   ],
   "source": [
    "from sklearn.metrics import classification_report,confusion_matrix\n",
    "print(classification_report(y_test,predictions))"
   ]
  },
  {
   "cell_type": "markdown",
   "metadata": {},
   "source": [
    "The first iteration provides some pretty weak scores. What happens if I leave only the columns that correlate with the graduation status AND drop the total score (since it depends on the other scores)?"
   ]
  },
  {
   "cell_type": "code",
   "execution_count": 149,
   "metadata": {},
   "outputs": [
    {
     "data": {
      "text/html": [
       "<div>\n",
       "<style scoped>\n",
       "    .dataframe tbody tr th:only-of-type {\n",
       "        vertical-align: middle;\n",
       "    }\n",
       "\n",
       "    .dataframe tbody tr th {\n",
       "        vertical-align: top;\n",
       "    }\n",
       "\n",
       "    .dataframe thead th {\n",
       "        text-align: right;\n",
       "    }\n",
       "</style>\n",
       "<table border=\"1\" class=\"dataframe\">\n",
       "  <thead>\n",
       "    <tr style=\"text-align: right;\">\n",
       "      <th></th>\n",
       "      <th>gpa</th>\n",
       "      <th>maths_exam</th>\n",
       "      <th>social_activity</th>\n",
       "      <th>graduated</th>\n",
       "    </tr>\n",
       "  </thead>\n",
       "  <tbody>\n",
       "    <tr>\n",
       "      <th>0</th>\n",
       "      <td>3.743429</td>\n",
       "      <td>0.898700</td>\n",
       "      <td>4</td>\n",
       "      <td>False</td>\n",
       "    </tr>\n",
       "    <tr>\n",
       "      <th>1</th>\n",
       "      <td>3.047625</td>\n",
       "      <td>0.993001</td>\n",
       "      <td>5</td>\n",
       "      <td>True</td>\n",
       "    </tr>\n",
       "    <tr>\n",
       "      <th>2</th>\n",
       "      <td>2.897191</td>\n",
       "      <td>0.718591</td>\n",
       "      <td>4</td>\n",
       "      <td>True</td>\n",
       "    </tr>\n",
       "    <tr>\n",
       "      <th>3</th>\n",
       "      <td>3.948450</td>\n",
       "      <td>0.953325</td>\n",
       "      <td>1</td>\n",
       "      <td>False</td>\n",
       "    </tr>\n",
       "    <tr>\n",
       "      <th>4</th>\n",
       "      <td>3.939870</td>\n",
       "      <td>0.452506</td>\n",
       "      <td>4</td>\n",
       "      <td>True</td>\n",
       "    </tr>\n",
       "  </tbody>\n",
       "</table>\n",
       "</div>"
      ],
      "text/plain": [
       "        gpa  maths_exam  social_activity  graduated\n",
       "0  3.743429    0.898700                4      False\n",
       "1  3.047625    0.993001                5       True\n",
       "2  2.897191    0.718591                4       True\n",
       "3  3.948450    0.953325                1      False\n",
       "4  3.939870    0.452506                4       True"
      ]
     },
     "execution_count": 149,
     "metadata": {},
     "output_type": "execute_result"
    }
   ],
   "source": [
    "students_corr = students.drop(['year', 'art_exam', 'language_exam', 'essay_score', 'interview_score', 'score'], axis=1)\n",
    "students_corr.head()"
   ]
  },
  {
   "cell_type": "code",
   "execution_count": 150,
   "metadata": {},
   "outputs": [
    {
     "name": "stdout",
     "output_type": "stream",
     "text": [
      "              precision    recall  f1-score   support\n",
      "\n",
      "       False       0.56      0.12      0.20       674\n",
      "        True       0.70      0.96      0.81      1429\n",
      "\n",
      "    accuracy                           0.69      2103\n",
      "   macro avg       0.63      0.54      0.50      2103\n",
      "weighted avg       0.65      0.69      0.61      2103\n",
      "\n"
     ]
    },
    {
     "name": "stderr",
     "output_type": "stream",
     "text": [
      "/home/mkay313/Projects/uni-student-recommendation/venv/lib/python3.7/site-packages/sklearn/linear_model/logistic.py:432: FutureWarning: Default solver will be changed to 'lbfgs' in 0.22. Specify a solver to silence this warning.\n",
      "  FutureWarning)\n"
     ]
    }
   ],
   "source": [
    "X_train, X_test, y_train, y_test = train_test_split(students_corr.drop('graduated',axis=1), \n",
    "                                                    students_corr['graduated'], test_size=0.30, \n",
    "                                                    random_state=101)\n",
    "logmodel = LogisticRegression()\n",
    "logmodel.fit(X_train,y_train)\n",
    "predictions = logmodel.predict(X_test)\n",
    "print(classification_report(y_test,predictions))"
   ]
  },
  {
   "cell_type": "markdown",
   "metadata": {},
   "source": [
    "This actually made the model just a little bit worse! Looks like logistic regression might not work here."
   ]
  },
  {
   "cell_type": "markdown",
   "metadata": {},
   "source": [
    "### Building a decision tree / random trees model"
   ]
  },
  {
   "cell_type": "code",
   "execution_count": 151,
   "metadata": {},
   "outputs": [],
   "source": [
    "from sklearn.tree import DecisionTreeClassifier"
   ]
  },
  {
   "cell_type": "code",
   "execution_count": 152,
   "metadata": {},
   "outputs": [],
   "source": [
    "X_train, X_test, y_train, y_test = train_test_split(students_corr.drop('graduated',axis=1), \n",
    "                                                    students_corr['graduated'], test_size=0.30, \n",
    "                                                    random_state=101)"
   ]
  },
  {
   "cell_type": "code",
   "execution_count": 153,
   "metadata": {},
   "outputs": [
    {
     "data": {
      "text/plain": [
       "DecisionTreeClassifier(class_weight=None, criterion='gini', max_depth=None,\n",
       "                       max_features=None, max_leaf_nodes=None,\n",
       "                       min_impurity_decrease=0.0, min_impurity_split=None,\n",
       "                       min_samples_leaf=1, min_samples_split=2,\n",
       "                       min_weight_fraction_leaf=0.0, presort=False,\n",
       "                       random_state=None, splitter='best')"
      ]
     },
     "execution_count": 153,
     "metadata": {},
     "output_type": "execute_result"
    }
   ],
   "source": [
    "dtree = DecisionTreeClassifier()\n",
    "dtree.fit(X_train,y_train)"
   ]
  },
  {
   "cell_type": "code",
   "execution_count": 154,
   "metadata": {},
   "outputs": [
    {
     "name": "stdout",
     "output_type": "stream",
     "text": [
      "              precision    recall  f1-score   support\n",
      "\n",
      "       False       0.33      0.34      0.34       674\n",
      "        True       0.69      0.67      0.68      1429\n",
      "\n",
      "    accuracy                           0.57      2103\n",
      "   macro avg       0.51      0.51      0.51      2103\n",
      "weighted avg       0.57      0.57      0.57      2103\n",
      "\n",
      "[[232 442]\n",
      " [466 963]]\n"
     ]
    }
   ],
   "source": [
    "predictions = dtree.predict(X_test)\n",
    "print(classification_report(y_test,predictions))\n",
    "print(confusion_matrix(y_test,predictions))"
   ]
  },
  {
   "cell_type": "code",
   "execution_count": 155,
   "metadata": {},
   "outputs": [
    {
     "data": {
      "text/plain": [
       "RandomForestClassifier(bootstrap=True, class_weight=None, criterion='gini',\n",
       "                       max_depth=None, max_features='auto', max_leaf_nodes=None,\n",
       "                       min_impurity_decrease=0.0, min_impurity_split=None,\n",
       "                       min_samples_leaf=1, min_samples_split=2,\n",
       "                       min_weight_fraction_leaf=0.0, n_estimators=100,\n",
       "                       n_jobs=None, oob_score=False, random_state=None,\n",
       "                       verbose=0, warm_start=False)"
      ]
     },
     "execution_count": 155,
     "metadata": {},
     "output_type": "execute_result"
    }
   ],
   "source": [
    "from sklearn.ensemble import RandomForestClassifier\n",
    "rfc = RandomForestClassifier(n_estimators=100)\n",
    "rfc.fit(X_train, y_train)"
   ]
  },
  {
   "cell_type": "code",
   "execution_count": 156,
   "metadata": {},
   "outputs": [],
   "source": [
    "rfc_pred = rfc.predict(X_test)"
   ]
  },
  {
   "cell_type": "code",
   "execution_count": 157,
   "metadata": {},
   "outputs": [
    {
     "name": "stdout",
     "output_type": "stream",
     "text": [
      "[[ 188  486]\n",
      " [ 279 1150]]\n"
     ]
    }
   ],
   "source": [
    "print(confusion_matrix(y_test,rfc_pred))"
   ]
  },
  {
   "cell_type": "code",
   "execution_count": 158,
   "metadata": {},
   "outputs": [
    {
     "name": "stdout",
     "output_type": "stream",
     "text": [
      "              precision    recall  f1-score   support\n",
      "\n",
      "       False       0.40      0.28      0.33       674\n",
      "        True       0.70      0.80      0.75      1429\n",
      "\n",
      "    accuracy                           0.64      2103\n",
      "   macro avg       0.55      0.54      0.54      2103\n",
      "weighted avg       0.61      0.64      0.62      2103\n",
      "\n"
     ]
    }
   ],
   "source": [
    "print(classification_report(y_test,rfc_pred))"
   ]
  },
  {
   "cell_type": "markdown",
   "metadata": {},
   "source": [
    "try out: logistic regression, decision trees / random forest, support vector machines, maybe a simple neural network?"
   ]
  }
 ],
 "metadata": {
  "kernelspec": {
   "display_name": "usr",
   "language": "python",
   "name": "usr"
  },
  "language_info": {
   "codemirror_mode": {
    "name": "ipython",
    "version": 3
   },
   "file_extension": ".py",
   "mimetype": "text/x-python",
   "name": "python",
   "nbconvert_exporter": "python",
   "pygments_lexer": "ipython3",
   "version": "3.7.3"
  }
 },
 "nbformat": 4,
 "nbformat_minor": 2
}
