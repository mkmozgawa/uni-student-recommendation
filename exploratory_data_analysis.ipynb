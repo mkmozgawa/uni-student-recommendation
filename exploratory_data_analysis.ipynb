{
 "cells": [
  {
   "cell_type": "markdown",
   "metadata": {},
   "source": [
    "### Introduction and initial data wrangling\n",
    "\n",
    "Hi! The purpose of this notebook is to show my thought process (chaotic at times -- especially towards the end, due to the time limit ;)). The main goal was to create a model which would predict, based off a set of personal stats, whether they'd graduate or not. I have some issues with that approach but I'm going to address those at the end.\n",
    "\n",
    "\n",
    "To the datamobile!"
   ]
  },
  {
   "cell_type": "code",
   "execution_count": 1,
   "metadata": {},
   "outputs": [],
   "source": [
    "import numpy as np\n",
    "import pandas as pd\n",
    "import matplotlib.pyplot as plt\n",
    "import seaborn as sns\n",
    "\n",
    "%matplotlib inline"
   ]
  },
  {
   "cell_type": "code",
   "execution_count": 2,
   "metadata": {},
   "outputs": [],
   "source": [
    "candidates = pd.read_csv('data/score_board.csv')"
   ]
  },
  {
   "cell_type": "code",
   "execution_count": 3,
   "metadata": {},
   "outputs": [
    {
     "data": {
      "text/html": [
       "<div>\n",
       "<style scoped>\n",
       "    .dataframe tbody tr th:only-of-type {\n",
       "        vertical-align: middle;\n",
       "    }\n",
       "\n",
       "    .dataframe tbody tr th {\n",
       "        vertical-align: top;\n",
       "    }\n",
       "\n",
       "    .dataframe thead th {\n",
       "        text-align: right;\n",
       "    }\n",
       "</style>\n",
       "<table border=\"1\" class=\"dataframe\">\n",
       "  <thead>\n",
       "    <tr style=\"text-align: right;\">\n",
       "      <th></th>\n",
       "      <th>id</th>\n",
       "      <th>year</th>\n",
       "      <th>gpa</th>\n",
       "      <th>maths_exam</th>\n",
       "      <th>art_exam</th>\n",
       "      <th>language_exam</th>\n",
       "      <th>social_activity</th>\n",
       "      <th>essay_score</th>\n",
       "      <th>interview_score</th>\n",
       "      <th>score</th>\n",
       "      <th>accepted</th>\n",
       "    </tr>\n",
       "  </thead>\n",
       "  <tbody>\n",
       "    <tr>\n",
       "      <th>0</th>\n",
       "      <td>CS-1980-00001</td>\n",
       "      <td>1980</td>\n",
       "      <td>1.674275</td>\n",
       "      <td>0.082557</td>\n",
       "      <td>0.084508</td>\n",
       "      <td>0.008007</td>\n",
       "      <td>4</td>\n",
       "      <td>0.091328</td>\n",
       "      <td>0.012596</td>\n",
       "      <td>276</td>\n",
       "      <td>False</td>\n",
       "    </tr>\n",
       "    <tr>\n",
       "      <th>1</th>\n",
       "      <td>CS-1980-00002</td>\n",
       "      <td>1980</td>\n",
       "      <td>3.743429</td>\n",
       "      <td>0.898700</td>\n",
       "      <td>0.978949</td>\n",
       "      <td>0.937879</td>\n",
       "      <td>4</td>\n",
       "      <td>0.991515</td>\n",
       "      <td>0.999604</td>\n",
       "      <td>857</td>\n",
       "      <td>True</td>\n",
       "    </tr>\n",
       "    <tr>\n",
       "      <th>2</th>\n",
       "      <td>CS-1980-00003</td>\n",
       "      <td>1980</td>\n",
       "      <td>1.500251</td>\n",
       "      <td>0.075756</td>\n",
       "      <td>0.002541</td>\n",
       "      <td>0.216737</td>\n",
       "      <td>3</td>\n",
       "      <td>0.008463</td>\n",
       "      <td>0.001737</td>\n",
       "      <td>276</td>\n",
       "      <td>False</td>\n",
       "    </tr>\n",
       "    <tr>\n",
       "      <th>3</th>\n",
       "      <td>CS-1980-00004</td>\n",
       "      <td>1980</td>\n",
       "      <td>3.047625</td>\n",
       "      <td>0.993001</td>\n",
       "      <td>0.950673</td>\n",
       "      <td>0.763701</td>\n",
       "      <td>5</td>\n",
       "      <td>0.996858</td>\n",
       "      <td>0.949954</td>\n",
       "      <td>841</td>\n",
       "      <td>True</td>\n",
       "    </tr>\n",
       "    <tr>\n",
       "      <th>4</th>\n",
       "      <td>CS-1980-00005</td>\n",
       "      <td>1980</td>\n",
       "      <td>2.884417</td>\n",
       "      <td>0.396614</td>\n",
       "      <td>0.478490</td>\n",
       "      <td>0.180828</td>\n",
       "      <td>3</td>\n",
       "      <td>0.638742</td>\n",
       "      <td>0.182141</td>\n",
       "      <td>554</td>\n",
       "      <td>False</td>\n",
       "    </tr>\n",
       "  </tbody>\n",
       "</table>\n",
       "</div>"
      ],
      "text/plain": [
       "              id  year       gpa  maths_exam  art_exam  language_exam  \\\n",
       "0  CS-1980-00001  1980  1.674275    0.082557  0.084508       0.008007   \n",
       "1  CS-1980-00002  1980  3.743429    0.898700  0.978949       0.937879   \n",
       "2  CS-1980-00003  1980  1.500251    0.075756  0.002541       0.216737   \n",
       "3  CS-1980-00004  1980  3.047625    0.993001  0.950673       0.763701   \n",
       "4  CS-1980-00005  1980  2.884417    0.396614  0.478490       0.180828   \n",
       "\n",
       "   social_activity  essay_score  interview_score  score  accepted  \n",
       "0                4     0.091328         0.012596    276     False  \n",
       "1                4     0.991515         0.999604    857      True  \n",
       "2                3     0.008463         0.001737    276     False  \n",
       "3                5     0.996858         0.949954    841      True  \n",
       "4                3     0.638742         0.182141    554     False  "
      ]
     },
     "execution_count": 3,
     "metadata": {},
     "output_type": "execute_result"
    }
   ],
   "source": [
    "candidates.head()"
   ]
  },
  {
   "cell_type": "code",
   "execution_count": 4,
   "metadata": {},
   "outputs": [],
   "source": [
    "graduates = pd.read_csv('data/graduates.csv')"
   ]
  },
  {
   "cell_type": "code",
   "execution_count": 5,
   "metadata": {},
   "outputs": [
    {
     "data": {
      "text/html": [
       "<div>\n",
       "<style scoped>\n",
       "    .dataframe tbody tr th:only-of-type {\n",
       "        vertical-align: middle;\n",
       "    }\n",
       "\n",
       "    .dataframe tbody tr th {\n",
       "        vertical-align: top;\n",
       "    }\n",
       "\n",
       "    .dataframe thead th {\n",
       "        text-align: right;\n",
       "    }\n",
       "</style>\n",
       "<table border=\"1\" class=\"dataframe\">\n",
       "  <thead>\n",
       "    <tr style=\"text-align: right;\">\n",
       "      <th></th>\n",
       "      <th>id</th>\n",
       "      <th>graduated</th>\n",
       "    </tr>\n",
       "  </thead>\n",
       "  <tbody>\n",
       "    <tr>\n",
       "      <th>0</th>\n",
       "      <td>CS-1980-00002</td>\n",
       "      <td>False</td>\n",
       "    </tr>\n",
       "    <tr>\n",
       "      <th>1</th>\n",
       "      <td>CS-1980-00004</td>\n",
       "      <td>True</td>\n",
       "    </tr>\n",
       "    <tr>\n",
       "      <th>2</th>\n",
       "      <td>CS-1980-00007</td>\n",
       "      <td>True</td>\n",
       "    </tr>\n",
       "    <tr>\n",
       "      <th>3</th>\n",
       "      <td>CS-1980-00008</td>\n",
       "      <td>False</td>\n",
       "    </tr>\n",
       "    <tr>\n",
       "      <th>4</th>\n",
       "      <td>CS-1980-00012</td>\n",
       "      <td>True</td>\n",
       "    </tr>\n",
       "  </tbody>\n",
       "</table>\n",
       "</div>"
      ],
      "text/plain": [
       "              id  graduated\n",
       "0  CS-1980-00002      False\n",
       "1  CS-1980-00004       True\n",
       "2  CS-1980-00007       True\n",
       "3  CS-1980-00008      False\n",
       "4  CS-1980-00012       True"
      ]
     },
     "execution_count": 5,
     "metadata": {},
     "output_type": "execute_result"
    }
   ],
   "source": [
    "graduates.head()"
   ]
  },
  {
   "cell_type": "code",
   "execution_count": 6,
   "metadata": {},
   "outputs": [],
   "source": [
    "students = pd.merge(candidates, graduates, on='id')\n",
    "students = students.drop(['accepted', 'id'], axis=1)"
   ]
  },
  {
   "cell_type": "code",
   "execution_count": 7,
   "metadata": {},
   "outputs": [
    {
     "data": {
      "text/html": [
       "<div>\n",
       "<style scoped>\n",
       "    .dataframe tbody tr th:only-of-type {\n",
       "        vertical-align: middle;\n",
       "    }\n",
       "\n",
       "    .dataframe tbody tr th {\n",
       "        vertical-align: top;\n",
       "    }\n",
       "\n",
       "    .dataframe thead th {\n",
       "        text-align: right;\n",
       "    }\n",
       "</style>\n",
       "<table border=\"1\" class=\"dataframe\">\n",
       "  <thead>\n",
       "    <tr style=\"text-align: right;\">\n",
       "      <th></th>\n",
       "      <th>year</th>\n",
       "      <th>gpa</th>\n",
       "      <th>maths_exam</th>\n",
       "      <th>art_exam</th>\n",
       "      <th>language_exam</th>\n",
       "      <th>social_activity</th>\n",
       "      <th>essay_score</th>\n",
       "      <th>interview_score</th>\n",
       "      <th>score</th>\n",
       "      <th>graduated</th>\n",
       "    </tr>\n",
       "  </thead>\n",
       "  <tbody>\n",
       "    <tr>\n",
       "      <th>0</th>\n",
       "      <td>1980</td>\n",
       "      <td>3.743429</td>\n",
       "      <td>0.898700</td>\n",
       "      <td>0.978949</td>\n",
       "      <td>0.937879</td>\n",
       "      <td>4</td>\n",
       "      <td>0.991515</td>\n",
       "      <td>0.999604</td>\n",
       "      <td>857</td>\n",
       "      <td>False</td>\n",
       "    </tr>\n",
       "    <tr>\n",
       "      <th>1</th>\n",
       "      <td>1980</td>\n",
       "      <td>3.047625</td>\n",
       "      <td>0.993001</td>\n",
       "      <td>0.950673</td>\n",
       "      <td>0.763701</td>\n",
       "      <td>5</td>\n",
       "      <td>0.996858</td>\n",
       "      <td>0.949954</td>\n",
       "      <td>841</td>\n",
       "      <td>True</td>\n",
       "    </tr>\n",
       "    <tr>\n",
       "      <th>2</th>\n",
       "      <td>1980</td>\n",
       "      <td>2.897191</td>\n",
       "      <td>0.718591</td>\n",
       "      <td>0.941583</td>\n",
       "      <td>0.489207</td>\n",
       "      <td>4</td>\n",
       "      <td>0.980957</td>\n",
       "      <td>0.912487</td>\n",
       "      <td>811</td>\n",
       "      <td>True</td>\n",
       "    </tr>\n",
       "    <tr>\n",
       "      <th>3</th>\n",
       "      <td>1980</td>\n",
       "      <td>3.948450</td>\n",
       "      <td>0.953325</td>\n",
       "      <td>0.981074</td>\n",
       "      <td>0.914729</td>\n",
       "      <td>1</td>\n",
       "      <td>0.999489</td>\n",
       "      <td>0.997138</td>\n",
       "      <td>875</td>\n",
       "      <td>False</td>\n",
       "    </tr>\n",
       "    <tr>\n",
       "      <th>4</th>\n",
       "      <td>1980</td>\n",
       "      <td>3.939870</td>\n",
       "      <td>0.452506</td>\n",
       "      <td>0.952712</td>\n",
       "      <td>0.974585</td>\n",
       "      <td>4</td>\n",
       "      <td>0.940924</td>\n",
       "      <td>0.973076</td>\n",
       "      <td>790</td>\n",
       "      <td>True</td>\n",
       "    </tr>\n",
       "  </tbody>\n",
       "</table>\n",
       "</div>"
      ],
      "text/plain": [
       "   year       gpa  maths_exam  art_exam  language_exam  social_activity  \\\n",
       "0  1980  3.743429    0.898700  0.978949       0.937879                4   \n",
       "1  1980  3.047625    0.993001  0.950673       0.763701                5   \n",
       "2  1980  2.897191    0.718591  0.941583       0.489207                4   \n",
       "3  1980  3.948450    0.953325  0.981074       0.914729                1   \n",
       "4  1980  3.939870    0.452506  0.952712       0.974585                4   \n",
       "\n",
       "   essay_score  interview_score  score  graduated  \n",
       "0     0.991515         0.999604    857      False  \n",
       "1     0.996858         0.949954    841       True  \n",
       "2     0.980957         0.912487    811       True  \n",
       "3     0.999489         0.997138    875      False  \n",
       "4     0.940924         0.973076    790       True  "
      ]
     },
     "execution_count": 7,
     "metadata": {},
     "output_type": "execute_result"
    }
   ],
   "source": [
    "students.head()"
   ]
  },
  {
   "cell_type": "markdown",
   "metadata": {},
   "source": [
    "Let's see if there are any null values:"
   ]
  },
  {
   "cell_type": "code",
   "execution_count": 8,
   "metadata": {},
   "outputs": [
    {
     "data": {
      "text/plain": [
       "<matplotlib.axes._subplots.AxesSubplot at 0x7f8737691be0>"
      ]
     },
     "execution_count": 8,
     "metadata": {},
     "output_type": "execute_result"
    },
    {
     "data": {
      "image/png": "[encoded data removed]",
      "text/plain": [
       "<Figure size 432x288 with 1 Axes>"
      ]
     },
     "metadata": {
      "needs_background": "light"
     },
     "output_type": "display_data"
    }
   ],
   "source": [
    "sns.heatmap(students.isnull(), yticklabels=False, cbar=False, cmap='viridis')"
   ]
  },
  {
   "cell_type": "markdown",
   "metadata": {},
   "source": [
    "There are none. There might be some nonsense values, though, so let's double check with .info() and .describe()."
   ]
  },
  {
   "cell_type": "code",
   "execution_count": 9,
   "metadata": {},
   "outputs": [
    {
     "name": "stdout",
     "output_type": "stream",
     "text": [
      "<class 'pandas.core.frame.DataFrame'>\n",
      "Int64Index: 7009 entries, 0 to 7008\n",
      "Data columns (total 10 columns):\n",
      "year               7009 non-null int64\n",
      "gpa                7009 non-null float64\n",
      "maths_exam         7009 non-null float64\n",
      "art_exam           7009 non-null float64\n",
      "language_exam      7009 non-null float64\n",
      "social_activity    7009 non-null int64\n",
      "essay_score        7009 non-null float64\n",
      "interview_score    7009 non-null float64\n",
      "score              7009 non-null int64\n",
      "graduated          7009 non-null bool\n",
      "dtypes: bool(1), float64(6), int64(3)\n",
      "memory usage: 554.4 KB\n"
     ]
    }
   ],
   "source": [
    "students.info()"
   ]
  },
  {
   "cell_type": "markdown",
   "metadata": {},
   "source": [
    "All the values are either numeric (great!) or Boolean (so they can be easily ported to numeric). The id object shouldn't, obviously, have any effect on the student status -- it's just a means of identification."
   ]
  },
  {
   "cell_type": "code",
   "execution_count": 10,
   "metadata": {},
   "outputs": [
    {
     "data": {
      "text/html": [
       "<div>\n",
       "<style scoped>\n",
       "    .dataframe tbody tr th:only-of-type {\n",
       "        vertical-align: middle;\n",
       "    }\n",
       "\n",
       "    .dataframe tbody tr th {\n",
       "        vertical-align: top;\n",
       "    }\n",
       "\n",
       "    .dataframe thead th {\n",
       "        text-align: right;\n",
       "    }\n",
       "</style>\n",
       "<table border=\"1\" class=\"dataframe\">\n",
       "  <thead>\n",
       "    <tr style=\"text-align: right;\">\n",
       "      <th></th>\n",
       "      <th>year</th>\n",
       "      <th>gpa</th>\n",
       "      <th>maths_exam</th>\n",
       "      <th>art_exam</th>\n",
       "      <th>language_exam</th>\n",
       "      <th>social_activity</th>\n",
       "      <th>essay_score</th>\n",
       "      <th>interview_score</th>\n",
       "      <th>score</th>\n",
       "    </tr>\n",
       "  </thead>\n",
       "  <tbody>\n",
       "    <tr>\n",
       "      <th>count</th>\n",
       "      <td>7009.000000</td>\n",
       "      <td>7009.000000</td>\n",
       "      <td>7009.000000</td>\n",
       "      <td>7009.000000</td>\n",
       "      <td>7009.000000</td>\n",
       "      <td>7009.000000</td>\n",
       "      <td>7009.000000</td>\n",
       "      <td>7009.000000</td>\n",
       "      <td>7009.000000</td>\n",
       "    </tr>\n",
       "    <tr>\n",
       "      <th>mean</th>\n",
       "      <td>1998.801684</td>\n",
       "      <td>3.594377</td>\n",
       "      <td>0.851056</td>\n",
       "      <td>0.815081</td>\n",
       "      <td>0.814123</td>\n",
       "      <td>3.000143</td>\n",
       "      <td>0.934669</td>\n",
       "      <td>0.936532</td>\n",
       "      <td>853.515623</td>\n",
       "    </tr>\n",
       "    <tr>\n",
       "      <th>std</th>\n",
       "      <td>10.913043</td>\n",
       "      <td>0.329060</td>\n",
       "      <td>0.192624</td>\n",
       "      <td>0.224290</td>\n",
       "      <td>0.227928</td>\n",
       "      <td>1.421410</td>\n",
       "      <td>0.130732</td>\n",
       "      <td>0.131171</td>\n",
       "      <td>105.485478</td>\n",
       "    </tr>\n",
       "    <tr>\n",
       "      <th>min</th>\n",
       "      <td>1980.000000</td>\n",
       "      <td>1.850764</td>\n",
       "      <td>0.009699</td>\n",
       "      <td>0.002378</td>\n",
       "      <td>0.005865</td>\n",
       "      <td>1.000000</td>\n",
       "      <td>0.002230</td>\n",
       "      <td>0.004825</td>\n",
       "      <td>561.000000</td>\n",
       "    </tr>\n",
       "    <tr>\n",
       "      <th>25%</th>\n",
       "      <td>1989.000000</td>\n",
       "      <td>3.420754</td>\n",
       "      <td>0.801365</td>\n",
       "      <td>0.739754</td>\n",
       "      <td>0.733354</td>\n",
       "      <td>2.000000</td>\n",
       "      <td>0.941314</td>\n",
       "      <td>0.944835</td>\n",
       "      <td>783.000000</td>\n",
       "    </tr>\n",
       "    <tr>\n",
       "      <th>50%</th>\n",
       "      <td>1999.000000</td>\n",
       "      <td>3.676011</td>\n",
       "      <td>0.931921</td>\n",
       "      <td>0.912559</td>\n",
       "      <td>0.916296</td>\n",
       "      <td>3.000000</td>\n",
       "      <td>0.985999</td>\n",
       "      <td>0.986613</td>\n",
       "      <td>839.000000</td>\n",
       "    </tr>\n",
       "    <tr>\n",
       "      <th>75%</th>\n",
       "      <td>2008.000000</td>\n",
       "      <td>3.847615</td>\n",
       "      <td>0.979433</td>\n",
       "      <td>0.975063</td>\n",
       "      <td>0.976982</td>\n",
       "      <td>4.000000</td>\n",
       "      <td>0.996801</td>\n",
       "      <td>0.997046</td>\n",
       "      <td>925.000000</td>\n",
       "    </tr>\n",
       "    <tr>\n",
       "      <th>max</th>\n",
       "      <td>2016.000000</td>\n",
       "      <td>3.999989</td>\n",
       "      <td>0.999921</td>\n",
       "      <td>0.999858</td>\n",
       "      <td>0.999942</td>\n",
       "      <td>5.000000</td>\n",
       "      <td>0.999996</td>\n",
       "      <td>0.999996</td>\n",
       "      <td>1115.000000</td>\n",
       "    </tr>\n",
       "  </tbody>\n",
       "</table>\n",
       "</div>"
      ],
      "text/plain": [
       "              year          gpa   maths_exam     art_exam  language_exam  \\\n",
       "count  7009.000000  7009.000000  7009.000000  7009.000000    7009.000000   \n",
       "mean   1998.801684     3.594377     0.851056     0.815081       0.814123   \n",
       "std      10.913043     0.329060     0.192624     0.224290       0.227928   \n",
       "min    1980.000000     1.850764     0.009699     0.002378       0.005865   \n",
       "25%    1989.000000     3.420754     0.801365     0.739754       0.733354   \n",
       "50%    1999.000000     3.676011     0.931921     0.912559       0.916296   \n",
       "75%    2008.000000     3.847615     0.979433     0.975063       0.976982   \n",
       "max    2016.000000     3.999989     0.999921     0.999858       0.999942   \n",
       "\n",
       "       social_activity  essay_score  interview_score        score  \n",
       "count      7009.000000  7009.000000      7009.000000  7009.000000  \n",
       "mean          3.000143     0.934669         0.936532   853.515623  \n",
       "std           1.421410     0.130732         0.131171   105.485478  \n",
       "min           1.000000     0.002230         0.004825   561.000000  \n",
       "25%           2.000000     0.941314         0.944835   783.000000  \n",
       "50%           3.000000     0.985999         0.986613   839.000000  \n",
       "75%           4.000000     0.996801         0.997046   925.000000  \n",
       "max           5.000000     0.999996         0.999996  1115.000000  "
      ]
     },
     "execution_count": 10,
     "metadata": {},
     "output_type": "execute_result"
    }
   ],
   "source": [
    "students.describe()"
   ]
  },
  {
   "cell_type": "markdown",
   "metadata": {},
   "source": [
    "A few observations based off this summary:\n",
    "1. There don't seem to be any nonsensical (out of boundary values). It seems like it's a nice, clean data set.\n",
    "2. The recruitment years span the 1980 - 2016 period. It would make sense to divide the students based off the recruitment year and see how each group performed since the exam difficulty may vary for each cohort.\n",
    "3. The 25% percentile for both the essay score and the interview score fall above the 94% grade mark. This might suggest that the human evaluators are pretty lenient (is every candidate really that good?) and those scores alone might not be too helpful in my predictions, or it might be better to transform them using a binary threshold (below/above average result).\n",
    "4. The average social activity score is three and the standard deviation for it is pretty big (1.42 on a 1-5 scale)."
   ]
  },
  {
   "cell_type": "markdown",
   "metadata": {},
   "source": [
    "### Data visualization\n",
    "This section presents a few graphs I found useful when trying to understand the data. There's also an accompanying Shiny app -- this part took me way longer than I anticipated, as my Seaborn- and Matplotlib-fu is still weak (compared to how fast I can create those graphs with R + ggplot).\n",
    "\n",
    "Let's start by seeing how many people graduated (total)."
   ]
  },
  {
   "cell_type": "code",
   "execution_count": 11,
   "metadata": {},
   "outputs": [
    {
     "data": {
      "text/plain": [
       "<matplotlib.axes._subplots.AxesSubplot at 0x2948427d6d8>"
      ]
     },
     "execution_count": 11,
     "metadata": {},
     "output_type": "execute_result"
    },
    {
     "data": {
      "image/png": "[encoded data removed]",
      "text/plain": [
       "<Figure size 432x288 with 1 Axes>"
      ]
     },
     "metadata": {},
     "output_type": "display_data"
    }
   ],
   "source": [
    "sns.set_style('whitegrid')\n",
    "sns.countplot(x='graduated', data=students, palette='RdBu_r')"
   ]
  },
  {
   "cell_type": "markdown",
   "metadata": {},
   "source": [
    "This means that about 1 in 3 students has dropped out. There's no info about at what point they dropped out but from the fiscal point of view that sounds like a lot."
   ]
  },
  {
   "cell_type": "markdown",
   "metadata": {},
   "source": [
    "Do the scores follow a normal distribution?"
   ]
  },
  {
   "cell_type": "code",
   "execution_count": 12,
   "metadata": {},
   "outputs": [
    {
     "data": {
      "image/png": "[encoded data removed]",
      "text/plain": [
       "<Figure size 432x288 with 1 Axes>"
      ]
     },
     "metadata": {},
     "output_type": "display_data"
    },
    {
     "name": "stdout",
     "output_type": "stream",
     "text": [
      "\n",
      "\n"
     ]
    },
    {
     "data": {
      "image/png": "[encoded data removed]",
      "text/plain": [
       "<Figure size 432x288 with 1 Axes>"
      ]
     },
     "metadata": {},
     "output_type": "display_data"
    },
    {
     "name": "stdout",
     "output_type": "stream",
     "text": [
      "\n",
      "\n"
     ]
    },
    {
     "data": {
      "image/png": "[encoded data removed]",
      "text/plain": [
       "<Figure size 432x288 with 1 Axes>"
      ]
     },
     "metadata": {},
     "output_type": "display_data"
    },
    {
     "name": "stdout",
     "output_type": "stream",
     "text": [
      "\n",
      "\n"
     ]
    },
    {
     "data": {
      "image/png": "[encoded data removed]",
      "text/plain": [
       "<Figure size 432x288 with 1 Axes>"
      ]
     },
     "metadata": {},
     "output_type": "display_data"
    },
    {
     "name": "stdout",
     "output_type": "stream",
     "text": [
      "\n",
      "\n"
     ]
    },
    {
     "data": {
      "image/png": "[encoded data removed]",
      "text/plain": [
       "<Figure size 432x288 with 1 Axes>"
      ]
     },
     "metadata": {},
     "output_type": "display_data"
    },
    {
     "name": "stdout",
     "output_type": "stream",
     "text": [
      "\n",
      "\n"
     ]
    }
   ],
   "source": [
    "colnames = list(students.columns.values)[2:-2]\n",
    "del colnames[4] # take only the column names for the scores\n",
    "\n",
    "for index, col in enumerate(colnames):\n",
    "    fig = plt.figure(figsize=(6,4))\n",
    "    students[col].hist(bins=30)\n",
    "    plt.title(col)\n",
    "    plt.show()\n",
    "    print('\\n')"
   ]
  },
  {
   "cell_type": "markdown",
   "metadata": {},
   "source": [
    "All but the total score and social-activity score are left-skewed. The total score looks more like a normal distribution, which is expected: if it was left-skewed as well it would mean most passing candidates were great at everything, and unicorns are rare. The social activity score looks fairly even, which seems good (it would seems suspicious if most people had 4s and 5s). The plots for the interview score and the essay score illustrate my earlier remarks.\n",
    "\n",
    "Let's see if there are any straightforward relationships in the data."
   ]
  },
  {
   "cell_type": "code",
   "execution_count": 13,
   "metadata": {
    "scrolled": true
   },
   "outputs": [
    {
     "data": {
      "image/png": "[encoded data removed]",
      "text/plain": [
       "<Figure size 1008x720 with 2 Axes>"
      ]
     },
     "metadata": {},
     "output_type": "display_data"
    }
   ],
   "source": [
    "corr = students.corr()\n",
    "grid = sns.heatmap(corr, center=0, square=True, linewidths=.3, annot=True, cmap='coolwarm')\n",
    "sns.despine()\n",
    "grid.figure.set_size_inches(14,10)\n",
    "plt.show()"
   ]
  },
  {
   "cell_type": "markdown",
   "metadata": {},
   "source": [
    "A few notes:\n",
    "1. The strongest correlation is between the GPA and the score, but this is probably just an indicator that whatever the score formula, the GPA was a major contributor to it.\n",
    "2. There is no strong correlation between any of the scores and one's graduation status, but there's a weak correlation (>0.1) between the graduation status and the GPA, Maths exam score, social activity score and the total score, respectively. This suggests that these factors might be the best predictors of one's graduation status (but not necessarily great).\n",
    "3. There's a moderately weak (~0.3) correlation between the arts and language exam scores and the interview and essay scores, while there is pretty much no ~(0.0) correlation between the Maths exam score and the interview and essay scores. This may suggest that these two assessment forms favour those who are better at arts and languages (more outspoken and creative, perhaps?) to those who are good at Maths. (Of course, one can be good at all of them, but it's fairly rare.)\n",
    "4. There's also a moderately weak (~0.3) correlation between the GPA and the essay and interview scores, but it's hard to elaborate on that further without knowing what exactly the candidates where graded on. If the essay and the interview pertained to some general knowledge, then having a higher GPA would suggest that a person has broader general knowledge which makes them more successful at such tasks -- but without any example exam / interview questions this is just a guess."
   ]
  },
  {
   "cell_type": "markdown",
   "metadata": {},
   "source": [
    "## Building a prediction model\n",
    "\n",
    "The problem of deciding whether someone would or would not graduate is a binary classification problem. I'd like to explore a few different models as each of them has their benefits and drawbacks, and each of them will give us a slightly different set of results."
   ]
  },
  {
   "cell_type": "markdown",
   "metadata": {},
   "source": [
    "### Building a logistic regression model\n",
    "\n",
    "The first model I'm going to use to try to fit the data uses logistic regression."
   ]
  },
  {
   "cell_type": "code",
   "execution_count": 10,
   "metadata": {},
   "outputs": [],
   "source": [
    "from sklearn.model_selection import train_test_split\n",
    "\n",
    "X_train, X_test, y_train, y_test = train_test_split(students.drop(['graduated'],axis=1), \n",
    "                                                    students['graduated'], test_size=0.30, \n",
    "                                                    random_state=42)"
   ]
  },
  {
   "cell_type": "code",
   "execution_count": 13,
   "metadata": {},
   "outputs": [
    {
     "data": {
      "text/plain": [
       "LogisticRegression(C=1.0, class_weight=None, dual=False, fit_intercept=True,\n",
       "                   intercept_scaling=1, l1_ratio=None, max_iter=100,\n",
       "                   multi_class='warn', n_jobs=None, penalty='l2',\n",
       "                   random_state=None, solver='lbfgs', tol=0.0001, verbose=0,\n",
       "                   warm_start=False)"
      ]
     },
     "execution_count": 13,
     "metadata": {},
     "output_type": "execute_result"
    }
   ],
   "source": [
    "from sklearn.linear_model import LogisticRegression\n",
    "\n",
    "logmodel = LogisticRegression(solver = 'lbfgs')\n",
    "logmodel.fit(X_train, y_train)"
   ]
  },
  {
   "cell_type": "code",
   "execution_count": 14,
   "metadata": {},
   "outputs": [],
   "source": [
    "predictions = logmodel.predict(X_test)"
   ]
  },
  {
   "cell_type": "code",
   "execution_count": 11,
   "metadata": {},
   "outputs": [],
   "source": [
    "from sklearn.metrics import classification_report, confusion_matrix"
   ]
  },
  {
   "cell_type": "code",
   "execution_count": 16,
   "metadata": {},
   "outputs": [
    {
     "name": "stdout",
     "output_type": "stream",
     "text": [
      "[[  82  579]\n",
      " [  82 1360]]\n"
     ]
    }
   ],
   "source": [
    "print(confusion_matrix(y_test, predictions))"
   ]
  },
  {
   "cell_type": "code",
   "execution_count": 16,
   "metadata": {},
   "outputs": [
    {
     "name": "stdout",
     "output_type": "stream",
     "text": [
      "              precision    recall  f1-score   support\n",
      "\n",
      "       False       0.50      0.12      0.20       661\n",
      "        True       0.70      0.94      0.80      1442\n",
      "\n",
      "    accuracy                           0.69      2103\n",
      "   macro avg       0.60      0.53      0.50      2103\n",
      "weighted avg       0.64      0.69      0.61      2103\n",
      "\n"
     ]
    }
   ],
   "source": [
    "print(classification_report(y_test, predictions))"
   ]
  },
  {
   "cell_type": "markdown",
   "metadata": {},
   "source": [
    "A few comments on the results:\n",
    "1. Out of 2103 test data samples 1360 have been classified correctly as \"would-be graduates\", 82 have been classified correctly as \"would-not-be graduates\", 579 have been classified incorrectly as \"would-be graduates\", and 82 have been classified incorrectly as \"would-not-be graduates\". Thus, 70% of the selected elements are relevant, and 94 percent of the relevant elements have been selected.\n",
    "2. This result is so-so. If we want to maximise the number of graduating students, we have to make live with the fact that we might not accept some perfectly capable students who have been classified as would-not-be-graduates (more on that in the limitations section). Since there's usually a trade-off between precision and recall, in this case it would be more desirable to drop our True recall value and get a higher True precision value instead.\n",
    "\n",
    "At this point I've tried using a MinMaxScaler to to transform the data but it had no significant effect on the data:"
   ]
  },
  {
   "cell_type": "code",
   "execution_count": 49,
   "metadata": {},
   "outputs": [
    {
     "data": {
      "text/html": [
       "<div>\n",
       "<style scoped>\n",
       "    .dataframe tbody tr th:only-of-type {\n",
       "        vertical-align: middle;\n",
       "    }\n",
       "\n",
       "    .dataframe tbody tr th {\n",
       "        vertical-align: top;\n",
       "    }\n",
       "\n",
       "    .dataframe thead th {\n",
       "        text-align: right;\n",
       "    }\n",
       "</style>\n",
       "<table border=\"1\" class=\"dataframe\">\n",
       "  <thead>\n",
       "    <tr style=\"text-align: right;\">\n",
       "      <th></th>\n",
       "      <th>year</th>\n",
       "      <th>gpa</th>\n",
       "      <th>maths_exam</th>\n",
       "      <th>art_exam</th>\n",
       "      <th>language_exam</th>\n",
       "      <th>social_activity</th>\n",
       "      <th>essay_score</th>\n",
       "      <th>interview_score</th>\n",
       "      <th>score</th>\n",
       "      <th>graduated</th>\n",
       "    </tr>\n",
       "  </thead>\n",
       "  <tbody>\n",
       "    <tr>\n",
       "      <th>0</th>\n",
       "      <td>1980</td>\n",
       "      <td>0.880627</td>\n",
       "      <td>0.897779</td>\n",
       "      <td>0.979038</td>\n",
       "      <td>0.937567</td>\n",
       "      <td>0.75</td>\n",
       "      <td>0.991499</td>\n",
       "      <td>0.999606</td>\n",
       "      <td>857</td>\n",
       "      <td>False</td>\n",
       "    </tr>\n",
       "    <tr>\n",
       "      <th>1</th>\n",
       "      <td>1980</td>\n",
       "      <td>0.556880</td>\n",
       "      <td>0.993012</td>\n",
       "      <td>0.950690</td>\n",
       "      <td>0.762352</td>\n",
       "      <td>1.00</td>\n",
       "      <td>0.996854</td>\n",
       "      <td>0.949715</td>\n",
       "      <td>841</td>\n",
       "      <td>True</td>\n",
       "    </tr>\n",
       "    <tr>\n",
       "      <th>2</th>\n",
       "      <td>1980</td>\n",
       "      <td>0.486886</td>\n",
       "      <td>0.715891</td>\n",
       "      <td>0.941578</td>\n",
       "      <td>0.486223</td>\n",
       "      <td>0.75</td>\n",
       "      <td>0.980918</td>\n",
       "      <td>0.912066</td>\n",
       "      <td>811</td>\n",
       "      <td>True</td>\n",
       "    </tr>\n",
       "    <tr>\n",
       "      <th>3</th>\n",
       "      <td>1980</td>\n",
       "      <td>0.976020</td>\n",
       "      <td>0.952944</td>\n",
       "      <td>0.981169</td>\n",
       "      <td>0.914280</td>\n",
       "      <td>0.00</td>\n",
       "      <td>0.999492</td>\n",
       "      <td>0.997128</td>\n",
       "      <td>875</td>\n",
       "      <td>False</td>\n",
       "    </tr>\n",
       "    <tr>\n",
       "      <th>4</th>\n",
       "      <td>1980</td>\n",
       "      <td>0.972028</td>\n",
       "      <td>0.447179</td>\n",
       "      <td>0.952735</td>\n",
       "      <td>0.974492</td>\n",
       "      <td>0.75</td>\n",
       "      <td>0.940796</td>\n",
       "      <td>0.972949</td>\n",
       "      <td>790</td>\n",
       "      <td>True</td>\n",
       "    </tr>\n",
       "  </tbody>\n",
       "</table>\n",
       "</div>"
      ],
      "text/plain": [
       "   year       gpa  maths_exam  art_exam  language_exam  social_activity  \\\n",
       "0  1980  0.880627    0.897779  0.979038       0.937567             0.75   \n",
       "1  1980  0.556880    0.993012  0.950690       0.762352             1.00   \n",
       "2  1980  0.486886    0.715891  0.941578       0.486223             0.75   \n",
       "3  1980  0.976020    0.952944  0.981169       0.914280             0.00   \n",
       "4  1980  0.972028    0.447179  0.952735       0.974492             0.75   \n",
       "\n",
       "   essay_score  interview_score  score  graduated  \n",
       "0     0.991499         0.999606    857      False  \n",
       "1     0.996854         0.949715    841       True  \n",
       "2     0.980918         0.912066    811       True  \n",
       "3     0.999492         0.997128    875      False  \n",
       "4     0.940796         0.972949    790       True  "
      ]
     },
     "execution_count": 49,
     "metadata": {},
     "output_type": "execute_result"
    }
   ],
   "source": [
    "students_min_max = students.copy()\n",
    "to_minxmax = list(students.columns[1:-2])\n",
    "from sklearn.preprocessing import MinMaxScaler\n",
    "scaler = MinMaxScaler()\n",
    "students_min_max[to_minxmax] = scaler.fit_transform(students_min_max[to_minxmax])\n",
    "students_min_max.head()"
   ]
  },
  {
   "cell_type": "code",
   "execution_count": 50,
   "metadata": {},
   "outputs": [],
   "source": [
    "X_train, X_test, y_train, y_test = train_test_split(students_min_max.drop('graduated',axis=1), \n",
    "                                                    students_min_max['graduated'], test_size=0.30, \n",
    "                                                    random_state=42)\n",
    "logmodel = LogisticRegression(solver = 'lbfgs')\n",
    "logmodel.fit(X_train, y_train)\n",
    "predictions = logmodel.predict(X_test)"
   ]
  },
  {
   "cell_type": "code",
   "execution_count": 51,
   "metadata": {},
   "outputs": [
    {
     "name": "stdout",
     "output_type": "stream",
     "text": [
      "[[  88  573]\n",
      " [  87 1355]]\n"
     ]
    }
   ],
   "source": [
    "print(confusion_matrix(y_test, predictions))"
   ]
  },
  {
   "cell_type": "code",
   "execution_count": 52,
   "metadata": {},
   "outputs": [
    {
     "name": "stdout",
     "output_type": "stream",
     "text": [
      "              precision    recall  f1-score   support\n",
      "\n",
      "       False       0.50      0.13      0.21       661\n",
      "        True       0.70      0.94      0.80      1442\n",
      "\n",
      "    accuracy                           0.69      2103\n",
      "   macro avg       0.60      0.54      0.51      2103\n",
      "weighted avg       0.64      0.69      0.62      2103\n",
      "\n"
     ]
    }
   ],
   "source": [
    "print(classification_report(y_test, predictions))"
   ]
  },
  {
   "cell_type": "markdown",
   "metadata": {},
   "source": [
    "Finally, a note on using PCA:"
   ]
  },
  {
   "cell_type": "code",
   "execution_count": 18,
   "metadata": {},
   "outputs": [],
   "source": [
    "from sklearn.preprocessing import StandardScaler\n",
    "scaler = StandardScaler()\n",
    "scaler.fit(X_train)\n",
    "train_scaled = scaler.transform(X_train)\n",
    "test_scaled = scaler.transform(X_test)\n",
    "\n",
    "from sklearn.decomposition import PCA\n",
    "pca = PCA(.95)\n",
    "pca.fit(X_train)\n",
    "\n",
    "train_scaled = pca.transform(X_train)\n",
    "test_scaled = pca.transform(X_test)\n",
    "\n",
    "logmodel = LogisticRegression(solver = 'lbfgs')\n",
    "logmodel.fit(train_scaled, y_train)\n",
    "predictions = logmodel.predict(test_scaled)"
   ]
  },
  {
   "cell_type": "code",
   "execution_count": 19,
   "metadata": {},
   "outputs": [
    {
     "name": "stdout",
     "output_type": "stream",
     "text": [
      "[[  14  647]\n",
      " [  17 1425]]\n"
     ]
    }
   ],
   "source": [
    "print(confusion_matrix(y_test, predictions))"
   ]
  },
  {
   "cell_type": "code",
   "execution_count": 20,
   "metadata": {},
   "outputs": [
    {
     "name": "stdout",
     "output_type": "stream",
     "text": [
      "              precision    recall  f1-score   support\n",
      "\n",
      "       False       0.45      0.02      0.04       661\n",
      "        True       0.69      0.99      0.81      1442\n",
      "\n",
      "    accuracy                           0.68      2103\n",
      "   macro avg       0.57      0.50      0.43      2103\n",
      "weighted avg       0.61      0.68      0.57      2103\n",
      "\n"
     ]
    }
   ],
   "source": [
    "print(classification_report(y_test, predictions))"
   ]
  },
  {
   "cell_type": "markdown",
   "metadata": {},
   "source": [
    "### Building a decision tree"
   ]
  },
  {
   "cell_type": "markdown",
   "metadata": {},
   "source": [
    "Another model I tried out was a decision tree. The strength of the decision tree lies in the fact that it can be visualized to show what decisions have been \"made\" by the algorithm."
   ]
  },
  {
   "cell_type": "code",
   "execution_count": 9,
   "metadata": {},
   "outputs": [],
   "source": [
    "from sklearn.tree import DecisionTreeClassifier"
   ]
  },
  {
   "cell_type": "code",
   "execution_count": 12,
   "metadata": {},
   "outputs": [],
   "source": [
    "X_train, X_test, y_train, y_test = train_test_split(students.drop('graduated',axis=1), \n",
    "                                                    students['graduated'], test_size=0.30, \n",
    "                                                    random_state=42)"
   ]
  },
  {
   "cell_type": "code",
   "execution_count": 13,
   "metadata": {},
   "outputs": [
    {
     "data": {
      "text/plain": [
       "DecisionTreeClassifier(class_weight=None, criterion='gini', max_depth=None,\n",
       "                       max_features=None, max_leaf_nodes=None,\n",
       "                       min_impurity_decrease=0.0, min_impurity_split=None,\n",
       "                       min_samples_leaf=1, min_samples_split=2,\n",
       "                       min_weight_fraction_leaf=0.0, presort=False,\n",
       "                       random_state=None, splitter='best')"
      ]
     },
     "execution_count": 13,
     "metadata": {},
     "output_type": "execute_result"
    }
   ],
   "source": [
    "dtree = DecisionTreeClassifier()\n",
    "dtree.fit(X_train,y_train)"
   ]
  },
  {
   "cell_type": "code",
   "execution_count": 14,
   "metadata": {},
   "outputs": [
    {
     "name": "stdout",
     "output_type": "stream",
     "text": [
      "              precision    recall  f1-score   support\n",
      "\n",
      "       False       0.34      0.36      0.35       661\n",
      "        True       0.70      0.67      0.68      1442\n",
      "\n",
      "    accuracy                           0.58      2103\n",
      "   macro avg       0.52      0.52      0.52      2103\n",
      "weighted avg       0.58      0.58      0.58      2103\n",
      "\n",
      "[[240 421]\n",
      " [472 970]]\n"
     ]
    }
   ],
   "source": [
    "predictions = dtree.predict(X_test)\n",
    "print(classification_report(y_test,predictions))\n",
    "print(confusion_matrix(y_test,predictions))"
   ]
  },
  {
   "cell_type": "markdown",
   "metadata": {},
   "source": [
    "This model has a slightly (but only slightly) higher True precision value but it also has a much lower recall, so as a result it actually \"allows in\" much fewer (~30%) would-be graduates than the logit model. The trade-off between precision and recall is not favourable here.\n",
    "\n",
    "Let's try to visualize the decision tree."
   ]
  },
  {
   "cell_type": "code",
   "execution_count": 15,
   "metadata": {},
   "outputs": [],
   "source": [
    "from sklearn.tree import export_graphviz\n",
    "from sklearn import tree\n",
    "from IPython.display import Image  \n",
    "import pydotplus"
   ]
  },
  {
   "cell_type": "code",
   "execution_count": 16,
   "metadata": {},
   "outputs": [],
   "source": [
    "features = list(students.columns[:-1])\n",
    "graph = tree.export_graphviz(dtree, out_file=None, feature_names=features, class_names=['would-grad', 'would-not-grad'], filled = True)"
   ]
  },
  {
   "cell_type": "code",
   "execution_count": 17,
   "metadata": {},
   "outputs": [
    {
     "name": "stdout",
     "output_type": "stream",
     "text": [
      "dot: graph is too large for cairo-renderer bitmaps. Scaling by 0.431866 to fit\n",
      "\n"
     ]
    },
    {
     "data": {
      "text/plain": [
       "True"
      ]
     },
     "execution_count": 17,
     "metadata": {},
     "output_type": "execute_result"
    }
   ],
   "source": [
    "graph = pydotplus.graph_from_dot_data(graph)  \n",
    "graph.write_png(\"tree.png\")"
   ]
  },
  {
   "cell_type": "code",
   "execution_count": 49,
   "metadata": {},
   "outputs": [
    {
     "data": {
      "text/plain": [
       "array([0.06735431, 0.14697485, 0.11744229, 0.12105825, 0.1264251 ,\n",
       "       0.03865291, 0.12034077, 0.13085432, 0.13089719])"
      ]
     },
     "execution_count": 49,
     "metadata": {},
     "output_type": "execute_result"
    }
   ],
   "source": [
    "dtree.feature_importances_"
   ]
  },
  {
   "cell_type": "markdown",
   "metadata": {},
   "source": [
    "The decision tree turned out to be so big that putting it into a notebook would break it, so it's been exported to a png file and can be found in the root folder. All things considered, it seems like a decision tree might not be the way to go here, or at least it might require some serious reduction parameter-wise."
   ]
  },
  {
   "cell_type": "markdown",
   "metadata": {},
   "source": [
    "To cut on the tree size let's try to change the maximum tree depth. For starters, let's iterate over the depths from 5 to 15 and see which gives us the best results:"
   ]
  },
  {
   "cell_type": "code",
   "execution_count": 18,
   "metadata": {},
   "outputs": [
    {
     "name": "stdout",
     "output_type": "stream",
     "text": [
      "Results for the decision tree with the max depth set to 2\n",
      "              precision    recall  f1-score   support\n",
      "\n",
      "       False       0.50      0.04      0.08       661\n",
      "        True       0.69      0.98      0.81      1442\n",
      "\n",
      "    accuracy                           0.69      2103\n",
      "   macro avg       0.60      0.51      0.44      2103\n",
      "weighted avg       0.63      0.69      0.58      2103\n",
      "\n",
      "[[  27  634]\n",
      " [  27 1415]]\n",
      "Results for the decision tree with the max depth set to 3\n",
      "              precision    recall  f1-score   support\n",
      "\n",
      "       False       0.46      0.11      0.18       661\n",
      "        True       0.70      0.94      0.80      1442\n",
      "\n",
      "    accuracy                           0.68      2103\n",
      "   macro avg       0.58      0.53      0.49      2103\n",
      "weighted avg       0.62      0.68      0.60      2103\n",
      "\n",
      "[[  72  589]\n",
      " [  84 1358]]\n",
      "Results for the decision tree with the max depth set to 4\n",
      "              precision    recall  f1-score   support\n",
      "\n",
      "       False       0.51      0.10      0.16       661\n",
      "        True       0.70      0.96      0.81      1442\n",
      "\n",
      "    accuracy                           0.69      2103\n",
      "   macro avg       0.60      0.53      0.48      2103\n",
      "weighted avg       0.64      0.69      0.60      2103\n",
      "\n",
      "[[  63  598]\n",
      " [  61 1381]]\n",
      "Results for the decision tree with the max depth set to 5\n",
      "              precision    recall  f1-score   support\n",
      "\n",
      "       False       0.42      0.15      0.22       661\n",
      "        True       0.70      0.91      0.79      1442\n",
      "\n",
      "    accuracy                           0.67      2103\n",
      "   macro avg       0.56      0.53      0.50      2103\n",
      "weighted avg       0.61      0.67      0.61      2103\n",
      "\n",
      "[[  97  564]\n",
      " [ 136 1306]]\n",
      "Results for the decision tree with the max depth set to 6\n",
      "              precision    recall  f1-score   support\n",
      "\n",
      "       False       0.41      0.15      0.22       661\n",
      "        True       0.70      0.90      0.79      1442\n",
      "\n",
      "    accuracy                           0.67      2103\n",
      "   macro avg       0.56      0.53      0.50      2103\n",
      "weighted avg       0.61      0.67      0.61      2103\n",
      "\n",
      "[[  98  563]\n",
      " [ 139 1303]]\n",
      "Results for the decision tree with the max depth set to 7\n",
      "              precision    recall  f1-score   support\n",
      "\n",
      "       False       0.41      0.15      0.22       661\n",
      "        True       0.70      0.90      0.79      1442\n",
      "\n",
      "    accuracy                           0.66      2103\n",
      "   macro avg       0.55      0.53      0.50      2103\n",
      "weighted avg       0.61      0.66      0.61      2103\n",
      "\n",
      "[[ 102  559]\n",
      " [ 148 1294]]\n",
      "Results for the decision tree with the max depth set to 8\n",
      "              precision    recall  f1-score   support\n",
      "\n",
      "       False       0.37      0.16      0.23       661\n",
      "        True       0.69      0.87      0.77      1442\n",
      "\n",
      "    accuracy                           0.65      2103\n",
      "   macro avg       0.53      0.52      0.50      2103\n",
      "weighted avg       0.59      0.65      0.60      2103\n",
      "\n",
      "[[ 108  553]\n",
      " [ 184 1258]]\n",
      "Results for the decision tree with the max depth set to 9\n",
      "              precision    recall  f1-score   support\n",
      "\n",
      "       False       0.39      0.20      0.27       661\n",
      "        True       0.70      0.85      0.77      1442\n",
      "\n",
      "    accuracy                           0.65      2103\n",
      "   macro avg       0.54      0.53      0.52      2103\n",
      "weighted avg       0.60      0.65      0.61      2103\n",
      "\n",
      "[[ 134  527]\n",
      " [ 210 1232]]\n",
      "Results for the decision tree with the max depth set to 10\n",
      "              precision    recall  f1-score   support\n",
      "\n",
      "       False       0.37      0.20      0.26       661\n",
      "        True       0.70      0.84      0.76      1442\n",
      "\n",
      "    accuracy                           0.64      2103\n",
      "   macro avg       0.53      0.52      0.51      2103\n",
      "weighted avg       0.59      0.64      0.61      2103\n",
      "\n",
      "[[ 135  526]\n",
      " [ 229 1213]]\n",
      "Results for the decision tree with the max depth set to 11\n",
      "              precision    recall  f1-score   support\n",
      "\n",
      "       False       0.37      0.25      0.30       661\n",
      "        True       0.70      0.80      0.75      1442\n",
      "\n",
      "    accuracy                           0.63      2103\n",
      "   macro avg       0.54      0.53      0.53      2103\n",
      "weighted avg       0.60      0.63      0.61      2103\n",
      "\n",
      "[[ 168  493]\n",
      " [ 284 1158]]\n",
      "Results for the decision tree with the max depth set to 12\n",
      "              precision    recall  f1-score   support\n",
      "\n",
      "       False       0.37      0.30      0.33       661\n",
      "        True       0.70      0.76      0.73      1442\n",
      "\n",
      "    accuracy                           0.62      2103\n",
      "   macro avg       0.54      0.53      0.53      2103\n",
      "weighted avg       0.60      0.62      0.61      2103\n",
      "\n",
      "[[ 197  464]\n",
      " [ 339 1103]]\n",
      "Results for the decision tree with the max depth set to 13\n",
      "              precision    recall  f1-score   support\n",
      "\n",
      "       False       0.36      0.30      0.33       661\n",
      "        True       0.70      0.75      0.73      1442\n",
      "\n",
      "    accuracy                           0.61      2103\n",
      "   macro avg       0.53      0.53      0.53      2103\n",
      "weighted avg       0.59      0.61      0.60      2103\n",
      "\n",
      "[[ 201  460]\n",
      " [ 360 1082]]\n",
      "Results for the decision tree with the max depth set to 14\n",
      "              precision    recall  f1-score   support\n",
      "\n",
      "       False       0.35      0.31      0.33       661\n",
      "        True       0.70      0.73      0.71      1442\n",
      "\n",
      "    accuracy                           0.60      2103\n",
      "   macro avg       0.52      0.52      0.52      2103\n",
      "weighted avg       0.59      0.60      0.59      2103\n",
      "\n",
      "[[ 206  455]\n",
      " [ 391 1051]]\n",
      "Results for the decision tree with the max depth set to 15\n",
      "              precision    recall  f1-score   support\n",
      "\n",
      "       False       0.34      0.32      0.33       661\n",
      "        True       0.70      0.72      0.71      1442\n",
      "\n",
      "    accuracy                           0.59      2103\n",
      "   macro avg       0.52      0.52      0.52      2103\n",
      "weighted avg       0.59      0.59      0.59      2103\n",
      "\n",
      "[[ 213  448]\n",
      " [ 410 1032]]\n"
     ]
    }
   ],
   "source": [
    "for i in list(range(2,16)):\n",
    "    dtree_max = DecisionTreeClassifier(max_depth=i)\n",
    "    dtree_max.fit(X_train,y_train)\n",
    "    predictions = dtree_max.predict(X_test)\n",
    "    print('Results for the decision tree with the max depth set to {i}'.format(i=i))\n",
    "    print(classification_report(y_test,predictions))\n",
    "    print(confusion_matrix(y_test,predictions))"
   ]
  },
  {
   "cell_type": "markdown",
   "metadata": {},
   "source": [
    "Interestingly, with the max depth set to 2 the accuracy matched that of a logistic regression classifier. Let's visualize the tree to better understand how it worked out:"
   ]
  },
  {
   "cell_type": "code",
   "execution_count": 20,
   "metadata": {},
   "outputs": [
    {
     "data": {
      "image/png": "[encoded data removed]",
      "text/plain": [
       "<IPython.core.display.Image object>"
      ]
     },
     "execution_count": 20,
     "metadata": {},
     "output_type": "execute_result"
    }
   ],
   "source": [
    "dtree_2 = DecisionTreeClassifier(max_depth=2)\n",
    "dtree_2.fit(X_train,y_train)\n",
    "predictions = dtree_2.predict(X_test)\n",
    "features = list(students.columns[:-1])\n",
    "graph_dtree_2 = tree.export_graphviz(dtree_2, out_file=None, feature_names=features, class_names=['would-grad', 'would-not-grad'], filled = True)\n",
    "graph_dtree_2 = pydotplus.graph_from_dot_data(graph_dtree_2)  \n",
    "Image(graph_dtree_2.create_png())"
   ]
  },
  {
   "cell_type": "code",
   "execution_count": 48,
   "metadata": {},
   "outputs": [
    {
     "data": {
      "text/plain": [
       "array([0.        , 0.        , 0.        , 0.        , 0.        ,\n",
       "       0.38388075, 0.        , 0.        , 0.61611925])"
      ]
     },
     "execution_count": 48,
     "metadata": {},
     "output_type": "execute_result"
    }
   ],
   "source": [
    "dtree_2.feature_importances_"
   ]
  },
  {
   "cell_type": "markdown",
   "metadata": {},
   "source": [
    "This tree is much easier to interpret! For this model only the score and social activity were of any importance. But note that its accuracy isn't much of an improvement compared to the original selection method.\n",
    "\n",
    "Let's see if applying a random forest classifier would help. Again, let's try to iterate over several depth levels to uncover the best solution (the estimator number corresponds to the number of trees in the forest):"
   ]
  },
  {
   "cell_type": "code",
   "execution_count": 63,
   "metadata": {},
   "outputs": [],
   "source": [
    "from sklearn.ensemble import RandomForestClassifier"
   ]
  },
  {
   "cell_type": "code",
   "execution_count": 67,
   "metadata": {},
   "outputs": [
    {
     "name": "stdout",
     "output_type": "stream",
     "text": [
      "Results for the decision tree with the max depth set to 2\n",
      "[[  24  637]\n",
      " [  15 1427]]\n",
      "              precision    recall  f1-score   support\n",
      "\n",
      "       False       0.62      0.04      0.07       661\n",
      "        True       0.69      0.99      0.81      1442\n",
      "\n",
      "    accuracy                           0.69      2103\n",
      "   macro avg       0.65      0.51      0.44      2103\n",
      "weighted avg       0.67      0.69      0.58      2103\n",
      "\n",
      "Results for the decision tree with the max depth set to 3\n",
      "[[  47  614]\n",
      " [  44 1398]]\n",
      "              precision    recall  f1-score   support\n",
      "\n",
      "       False       0.52      0.07      0.12       661\n",
      "        True       0.69      0.97      0.81      1442\n",
      "\n",
      "    accuracy                           0.69      2103\n",
      "   macro avg       0.61      0.52      0.47      2103\n",
      "weighted avg       0.64      0.69      0.59      2103\n",
      "\n",
      "Results for the decision tree with the max depth set to 4\n",
      "[[  60  601]\n",
      " [  48 1394]]\n",
      "              precision    recall  f1-score   support\n",
      "\n",
      "       False       0.56      0.09      0.16       661\n",
      "        True       0.70      0.97      0.81      1442\n",
      "\n",
      "    accuracy                           0.69      2103\n",
      "   macro avg       0.63      0.53      0.48      2103\n",
      "weighted avg       0.65      0.69      0.61      2103\n",
      "\n",
      "Results for the decision tree with the max depth set to 5\n",
      "[[  68  593]\n",
      " [  58 1384]]\n",
      "              precision    recall  f1-score   support\n",
      "\n",
      "       False       0.54      0.10      0.17       661\n",
      "        True       0.70      0.96      0.81      1442\n",
      "\n",
      "    accuracy                           0.69      2103\n",
      "   macro avg       0.62      0.53      0.49      2103\n",
      "weighted avg       0.65      0.69      0.61      2103\n",
      "\n",
      "Results for the decision tree with the max depth set to 6\n",
      "[[  69  592]\n",
      " [  60 1382]]\n",
      "              precision    recall  f1-score   support\n",
      "\n",
      "       False       0.53      0.10      0.17       661\n",
      "        True       0.70      0.96      0.81      1442\n",
      "\n",
      "    accuracy                           0.69      2103\n",
      "   macro avg       0.62      0.53      0.49      2103\n",
      "weighted avg       0.65      0.69      0.61      2103\n",
      "\n",
      "Results for the decision tree with the max depth set to 7\n",
      "[[  73  588]\n",
      " [  76 1366]]\n",
      "              precision    recall  f1-score   support\n",
      "\n",
      "       False       0.49      0.11      0.18       661\n",
      "        True       0.70      0.95      0.80      1442\n",
      "\n",
      "    accuracy                           0.68      2103\n",
      "   macro avg       0.59      0.53      0.49      2103\n",
      "weighted avg       0.63      0.68      0.61      2103\n",
      "\n",
      "Results for the decision tree with the max depth set to 8\n",
      "[[  77  584]\n",
      " [  87 1355]]\n",
      "              precision    recall  f1-score   support\n",
      "\n",
      "       False       0.47      0.12      0.19       661\n",
      "        True       0.70      0.94      0.80      1442\n",
      "\n",
      "    accuracy                           0.68      2103\n",
      "   macro avg       0.58      0.53      0.49      2103\n",
      "weighted avg       0.63      0.68      0.61      2103\n",
      "\n",
      "Results for the decision tree with the max depth set to 9\n",
      "[[  88  573]\n",
      " [ 103 1339]]\n",
      "              precision    recall  f1-score   support\n",
      "\n",
      "       False       0.46      0.13      0.21       661\n",
      "        True       0.70      0.93      0.80      1442\n",
      "\n",
      "    accuracy                           0.68      2103\n",
      "   macro avg       0.58      0.53      0.50      2103\n",
      "weighted avg       0.63      0.68      0.61      2103\n",
      "\n",
      "Results for the decision tree with the max depth set to 10\n",
      "[[  86  575]\n",
      " [  98 1344]]\n",
      "              precision    recall  f1-score   support\n",
      "\n",
      "       False       0.47      0.13      0.20       661\n",
      "        True       0.70      0.93      0.80      1442\n",
      "\n",
      "    accuracy                           0.68      2103\n",
      "   macro avg       0.58      0.53      0.50      2103\n",
      "weighted avg       0.63      0.68      0.61      2103\n",
      "\n",
      "Results for the decision tree with the max depth set to 11\n",
      "[[ 104  557]\n",
      " [ 124 1318]]\n",
      "              precision    recall  f1-score   support\n",
      "\n",
      "       False       0.46      0.16      0.23       661\n",
      "        True       0.70      0.91      0.79      1442\n",
      "\n",
      "    accuracy                           0.68      2103\n",
      "   macro avg       0.58      0.54      0.51      2103\n",
      "weighted avg       0.63      0.68      0.62      2103\n",
      "\n",
      "Results for the decision tree with the max depth set to 12\n",
      "[[  95  566]\n",
      " [ 128 1314]]\n",
      "              precision    recall  f1-score   support\n",
      "\n",
      "       False       0.43      0.14      0.21       661\n",
      "        True       0.70      0.91      0.79      1442\n",
      "\n",
      "    accuracy                           0.67      2103\n",
      "   macro avg       0.56      0.53      0.50      2103\n",
      "weighted avg       0.61      0.67      0.61      2103\n",
      "\n",
      "Results for the decision tree with the max depth set to 13\n",
      "[[ 105  556]\n",
      " [ 125 1317]]\n",
      "              precision    recall  f1-score   support\n",
      "\n",
      "       False       0.46      0.16      0.24       661\n",
      "        True       0.70      0.91      0.79      1442\n",
      "\n",
      "    accuracy                           0.68      2103\n",
      "   macro avg       0.58      0.54      0.52      2103\n",
      "weighted avg       0.63      0.68      0.62      2103\n",
      "\n",
      "Results for the decision tree with the max depth set to 14\n",
      "[[ 105  556]\n",
      " [ 135 1307]]\n",
      "              precision    recall  f1-score   support\n",
      "\n",
      "       False       0.44      0.16      0.23       661\n",
      "        True       0.70      0.91      0.79      1442\n",
      "\n",
      "    accuracy                           0.67      2103\n",
      "   macro avg       0.57      0.53      0.51      2103\n",
      "weighted avg       0.62      0.67      0.62      2103\n",
      "\n",
      "Results for the decision tree with the max depth set to 15\n",
      "[[ 109  552]\n",
      " [ 132 1310]]\n",
      "              precision    recall  f1-score   support\n",
      "\n",
      "       False       0.45      0.16      0.24       661\n",
      "        True       0.70      0.91      0.79      1442\n",
      "\n",
      "    accuracy                           0.67      2103\n",
      "   macro avg       0.58      0.54      0.52      2103\n",
      "weighted avg       0.62      0.67      0.62      2103\n",
      "\n"
     ]
    }
   ],
   "source": [
    "for i in list(range(2,16)):\n",
    "    rfc = RandomForestClassifier(n_estimators=100, max_depth=i)\n",
    "    rfc.fit(X_train, y_train)\n",
    "    rfc_pred = rfc.predict(X_test)\n",
    "    print('Results for the decision tree with the max depth set to {i}'.format(i=i))\n",
    "    print(confusion_matrix(y_test,rfc_pred))\n",
    "    print(classification_report(y_test,rfc_pred))"
   ]
  },
  {
   "cell_type": "markdown",
   "metadata": {},
   "source": [
    "Again, although the random forest with just 2 depth levels looks like the winner (the score has not improved, though), what is chosen in the end depends on what we'd want to optimize for."
   ]
  },
  {
   "cell_type": "markdown",
   "metadata": {},
   "source": [
    "### SVM"
   ]
  },
  {
   "cell_type": "markdown",
   "metadata": {},
   "source": [
    "The final model I wanted to test out on the data was the support-vector machine. It can be used for both supervised and unsupervised machine learning; in this case, since there's information about the graduation status it can be used as a supervised learning model to group the results. "
   ]
  },
  {
   "cell_type": "code",
   "execution_count": 31,
   "metadata": {},
   "outputs": [],
   "source": [
    "from sklearn.svm import SVC"
   ]
  },
  {
   "cell_type": "code",
   "execution_count": 60,
   "metadata": {},
   "outputs": [],
   "source": [
    "model = SVC(gamma='scale')"
   ]
  },
  {
   "cell_type": "code",
   "execution_count": 61,
   "metadata": {},
   "outputs": [
    {
     "data": {
      "text/plain": [
       "SVC(C=1.0, cache_size=200, class_weight=None, coef0=0.0,\n",
       "    decision_function_shape='ovr', degree=3, gamma='scale', kernel='rbf',\n",
       "    max_iter=-1, probability=False, random_state=None, shrinking=True,\n",
       "    tol=0.001, verbose=False)"
      ]
     },
     "execution_count": 61,
     "metadata": {},
     "output_type": "execute_result"
    }
   ],
   "source": [
    "model.fit(X_train,y_train)"
   ]
  },
  {
   "cell_type": "code",
   "execution_count": 62,
   "metadata": {},
   "outputs": [],
   "source": [
    "predictions = model.predict(X_test)"
   ]
  },
  {
   "cell_type": "code",
   "execution_count": 63,
   "metadata": {},
   "outputs": [
    {
     "name": "stdout",
     "output_type": "stream",
     "text": [
      "[[   0  661]\n",
      " [   0 1442]]\n"
     ]
    }
   ],
   "source": [
    "print(confusion_matrix(y_test,predictions))"
   ]
  },
  {
   "cell_type": "code",
   "execution_count": 64,
   "metadata": {},
   "outputs": [
    {
     "name": "stdout",
     "output_type": "stream",
     "text": [
      "              precision    recall  f1-score   support\n",
      "\n",
      "       False       0.00      0.00      0.00       661\n",
      "        True       0.69      1.00      0.81      1442\n",
      "\n",
      "    accuracy                           0.69      2103\n",
      "   macro avg       0.34      0.50      0.41      2103\n",
      "weighted avg       0.47      0.69      0.56      2103\n",
      "\n"
     ]
    },
    {
     "name": "stderr",
     "output_type": "stream",
     "text": [
      "/home/mkay313/Projects/uni-student-recommendation/venv/lib/python3.7/site-packages/sklearn/metrics/classification.py:1437: UndefinedMetricWarning: Precision and F-score are ill-defined and being set to 0.0 in labels with no predicted samples.\n",
      "  'precision', 'predicted', average, warn_for)\n",
      "/home/mkay313/Projects/uni-student-recommendation/venv/lib/python3.7/site-packages/sklearn/metrics/classification.py:1437: UndefinedMetricWarning: Precision and F-score are ill-defined and being set to 0.0 in labels with no predicted samples.\n",
      "  'precision', 'predicted', average, warn_for)\n",
      "/home/mkay313/Projects/uni-student-recommendation/venv/lib/python3.7/site-packages/sklearn/metrics/classification.py:1437: UndefinedMetricWarning: Precision and F-score are ill-defined and being set to 0.0 in labels with no predicted samples.\n",
      "  'precision', 'predicted', average, warn_for)\n"
     ]
    }
   ],
   "source": [
    "print(classification_report(y_test,predictions))"
   ]
  },
  {
   "cell_type": "markdown",
   "metadata": {},
   "source": [
    "Whoops. The model put everything into a single class. At this point I could either normalize the data or try brute-forcing for better parameters. Since I already tried normalizing the data for LR and it did nothing for me, I'm going to give just brute-forcing the parameters a shot:"
   ]
  },
  {
   "cell_type": "code",
   "execution_count": 65,
   "metadata": {},
   "outputs": [],
   "source": [
    "param_grid = {'C': [0.1,1, 10, 100, 1000], 'gamma': [1,0.1,0.01,0.001,0.0001], 'kernel': ['rbf']} "
   ]
  },
  {
   "cell_type": "code",
   "execution_count": 66,
   "metadata": {},
   "outputs": [],
   "source": [
    "from sklearn.model_selection import GridSearchCV"
   ]
  },
  {
   "cell_type": "code",
   "execution_count": 67,
   "metadata": {},
   "outputs": [],
   "source": [
    "grid = GridSearchCV(SVC(), param_grid, refit=True, verbose=3)"
   ]
  },
  {
   "cell_type": "code",
   "execution_count": 68,
   "metadata": {},
   "outputs": [
    {
     "name": "stderr",
     "output_type": "stream",
     "text": [
      "/home/mkay313/Projects/uni-student-recommendation/venv/lib/python3.7/site-packages/sklearn/model_selection/_split.py:1978: FutureWarning: The default value of cv will change from 3 to 5 in version 0.22. Specify it explicitly to silence this warning.\n",
      "  warnings.warn(CV_WARNING, FutureWarning)\n",
      "[Parallel(n_jobs=1)]: Using backend SequentialBackend with 1 concurrent workers.\n"
     ]
    },
    {
     "name": "stdout",
     "output_type": "stream",
     "text": [
      "Fitting 3 folds for each of 25 candidates, totalling 75 fits\n",
      "[CV] C=0.1, gamma=1, kernel=rbf ......................................\n",
      "[CV] .......... C=0.1, gamma=1, kernel=rbf, score=0.673, total=   0.7s\n",
      "[CV] C=0.1, gamma=1, kernel=rbf ......................................\n"
     ]
    },
    {
     "name": "stderr",
     "output_type": "stream",
     "text": [
      "[Parallel(n_jobs=1)]: Done   1 out of   1 | elapsed:    0.7s remaining:    0.0s\n"
     ]
    },
    {
     "name": "stdout",
     "output_type": "stream",
     "text": [
      "[CV] .......... C=0.1, gamma=1, kernel=rbf, score=0.673, total=   0.8s\n",
      "[CV] C=0.1, gamma=1, kernel=rbf ......................................\n"
     ]
    },
    {
     "name": "stderr",
     "output_type": "stream",
     "text": [
      "[Parallel(n_jobs=1)]: Done   2 out of   2 | elapsed:    1.5s remaining:    0.0s\n"
     ]
    },
    {
     "name": "stdout",
     "output_type": "stream",
     "text": [
      "[CV] .......... C=0.1, gamma=1, kernel=rbf, score=0.673, total=   0.7s\n",
      "[CV] C=0.1, gamma=0.1, kernel=rbf ....................................\n",
      "[CV] ........ C=0.1, gamma=0.1, kernel=rbf, score=0.673, total=   0.7s\n",
      "[CV] C=0.1, gamma=0.1, kernel=rbf ....................................\n",
      "[CV] ........ C=0.1, gamma=0.1, kernel=rbf, score=0.673, total=   0.7s\n",
      "[CV] C=0.1, gamma=0.1, kernel=rbf ....................................\n",
      "[CV] ........ C=0.1, gamma=0.1, kernel=rbf, score=0.673, total=   0.8s\n",
      "[CV] C=0.1, gamma=0.01, kernel=rbf ...................................\n",
      "[CV] ....... C=0.1, gamma=0.01, kernel=rbf, score=0.673, total=   0.7s\n",
      "[CV] C=0.1, gamma=0.01, kernel=rbf ...................................\n",
      "[CV] ....... C=0.1, gamma=0.01, kernel=rbf, score=0.673, total=   0.7s\n",
      "[CV] C=0.1, gamma=0.01, kernel=rbf ...................................\n",
      "[CV] ....... C=0.1, gamma=0.01, kernel=rbf, score=0.673, total=   0.7s\n",
      "[CV] C=0.1, gamma=0.001, kernel=rbf ..................................\n",
      "[CV] ...... C=0.1, gamma=0.001, kernel=rbf, score=0.684, total=   0.6s\n",
      "[CV] C=0.1, gamma=0.001, kernel=rbf ..................................\n",
      "[CV] ...... C=0.1, gamma=0.001, kernel=rbf, score=0.679, total=   0.7s\n",
      "[CV] C=0.1, gamma=0.001, kernel=rbf ..................................\n",
      "[CV] ...... C=0.1, gamma=0.001, kernel=rbf, score=0.683, total=   0.6s\n",
      "[CV] C=0.1, gamma=0.0001, kernel=rbf .................................\n",
      "[CV] ..... C=0.1, gamma=0.0001, kernel=rbf, score=0.689, total=   0.6s\n",
      "[CV] C=0.1, gamma=0.0001, kernel=rbf .................................\n",
      "[CV] ..... C=0.1, gamma=0.0001, kernel=rbf, score=0.679, total=   0.6s\n",
      "[CV] C=0.1, gamma=0.0001, kernel=rbf .................................\n",
      "[CV] ..... C=0.1, gamma=0.0001, kernel=rbf, score=0.684, total=   0.6s\n",
      "[CV] C=1, gamma=1, kernel=rbf ........................................\n",
      "[CV] ............ C=1, gamma=1, kernel=rbf, score=0.655, total=   0.8s\n",
      "[CV] C=1, gamma=1, kernel=rbf ........................................\n",
      "[CV] ............ C=1, gamma=1, kernel=rbf, score=0.658, total=   0.9s\n",
      "[CV] C=1, gamma=1, kernel=rbf ........................................\n",
      "[CV] ............ C=1, gamma=1, kernel=rbf, score=0.667, total=   1.0s\n",
      "[CV] C=1, gamma=0.1, kernel=rbf ......................................\n",
      "[CV] .......... C=1, gamma=0.1, kernel=rbf, score=0.641, total=   0.9s\n",
      "[CV] C=1, gamma=0.1, kernel=rbf ......................................\n",
      "[CV] .......... C=1, gamma=0.1, kernel=rbf, score=0.660, total=   0.8s\n",
      "[CV] C=1, gamma=0.1, kernel=rbf ......................................\n",
      "[CV] .......... C=1, gamma=0.1, kernel=rbf, score=0.655, total=   0.8s\n",
      "[CV] C=1, gamma=0.01, kernel=rbf .....................................\n",
      "[CV] ......... C=1, gamma=0.01, kernel=rbf, score=0.678, total=   0.7s\n",
      "[CV] C=1, gamma=0.01, kernel=rbf .....................................\n",
      "[CV] ......... C=1, gamma=0.01, kernel=rbf, score=0.676, total=   0.8s\n",
      "[CV] C=1, gamma=0.01, kernel=rbf .....................................\n",
      "[CV] ......... C=1, gamma=0.01, kernel=rbf, score=0.683, total=   0.8s\n",
      "[CV] C=1, gamma=0.001, kernel=rbf ....................................\n",
      "[CV] ........ C=1, gamma=0.001, kernel=rbf, score=0.686, total=   0.8s\n",
      "[CV] C=1, gamma=0.001, kernel=rbf ....................................\n",
      "[CV] ........ C=1, gamma=0.001, kernel=rbf, score=0.680, total=   0.9s\n",
      "[CV] C=1, gamma=0.001, kernel=rbf ....................................\n",
      "[CV] ........ C=1, gamma=0.001, kernel=rbf, score=0.683, total=   0.9s\n",
      "[CV] C=1, gamma=0.0001, kernel=rbf ...................................\n",
      "[CV] ....... C=1, gamma=0.0001, kernel=rbf, score=0.689, total=   0.9s\n",
      "[CV] C=1, gamma=0.0001, kernel=rbf ...................................\n",
      "[CV] ....... C=1, gamma=0.0001, kernel=rbf, score=0.678, total=   1.0s\n",
      "[CV] C=1, gamma=0.0001, kernel=rbf ...................................\n",
      "[CV] ....... C=1, gamma=0.0001, kernel=rbf, score=0.684, total=   0.9s\n",
      "[CV] C=10, gamma=1, kernel=rbf .......................................\n",
      "[CV] ........... C=10, gamma=1, kernel=rbf, score=0.638, total=   0.7s\n",
      "[CV] C=10, gamma=1, kernel=rbf .......................................\n",
      "[CV] ........... C=10, gamma=1, kernel=rbf, score=0.639, total=   0.7s\n",
      "[CV] C=10, gamma=1, kernel=rbf .......................................\n",
      "[CV] ........... C=10, gamma=1, kernel=rbf, score=0.661, total=   0.7s\n",
      "[CV] C=10, gamma=0.1, kernel=rbf .....................................\n",
      "[CV] ......... C=10, gamma=0.1, kernel=rbf, score=0.605, total=   0.9s\n",
      "[CV] C=10, gamma=0.1, kernel=rbf .....................................\n",
      "[CV] ......... C=10, gamma=0.1, kernel=rbf, score=0.588, total=   1.0s\n",
      "[CV] C=10, gamma=0.1, kernel=rbf .....................................\n",
      "[CV] ......... C=10, gamma=0.1, kernel=rbf, score=0.605, total=   0.9s\n",
      "[CV] C=10, gamma=0.01, kernel=rbf ....................................\n",
      "[CV] ........ C=10, gamma=0.01, kernel=rbf, score=0.667, total=   0.8s\n",
      "[CV] C=10, gamma=0.01, kernel=rbf ....................................\n",
      "[CV] ........ C=10, gamma=0.01, kernel=rbf, score=0.672, total=   0.9s\n",
      "[CV] C=10, gamma=0.01, kernel=rbf ....................................\n",
      "[CV] ........ C=10, gamma=0.01, kernel=rbf, score=0.687, total=   0.9s\n",
      "[CV] C=10, gamma=0.001, kernel=rbf ...................................\n",
      "[CV] ....... C=10, gamma=0.001, kernel=rbf, score=0.681, total=   1.4s\n",
      "[CV] C=10, gamma=0.001, kernel=rbf ...................................\n",
      "[CV] ....... C=10, gamma=0.001, kernel=rbf, score=0.680, total=   1.8s\n",
      "[CV] C=10, gamma=0.001, kernel=rbf ...................................\n",
      "[CV] ....... C=10, gamma=0.001, kernel=rbf, score=0.680, total=   1.7s\n",
      "[CV] C=10, gamma=0.0001, kernel=rbf ..................................\n",
      "[CV] ...... C=10, gamma=0.0001, kernel=rbf, score=0.690, total=   2.2s\n",
      "[CV] C=10, gamma=0.0001, kernel=rbf ..................................\n",
      "[CV] ...... C=10, gamma=0.0001, kernel=rbf, score=0.679, total=   3.0s\n",
      "[CV] C=10, gamma=0.0001, kernel=rbf ..................................\n",
      "[CV] ...... C=10, gamma=0.0001, kernel=rbf, score=0.686, total=   2.6s\n",
      "[CV] C=100, gamma=1, kernel=rbf ......................................\n",
      "[CV] .......... C=100, gamma=1, kernel=rbf, score=0.635, total=   0.8s\n",
      "[CV] C=100, gamma=1, kernel=rbf ......................................\n",
      "[CV] .......... C=100, gamma=1, kernel=rbf, score=0.639, total=   0.9s\n",
      "[CV] C=100, gamma=1, kernel=rbf ......................................\n",
      "[CV] .......... C=100, gamma=1, kernel=rbf, score=0.661, total=   0.9s\n",
      "[CV] C=100, gamma=0.1, kernel=rbf ....................................\n",
      "[CV] ........ C=100, gamma=0.1, kernel=rbf, score=0.597, total=   1.4s\n",
      "[CV] C=100, gamma=0.1, kernel=rbf ....................................\n",
      "[CV] ........ C=100, gamma=0.1, kernel=rbf, score=0.577, total=   1.2s\n",
      "[CV] C=100, gamma=0.1, kernel=rbf ....................................\n",
      "[CV] ........ C=100, gamma=0.1, kernel=rbf, score=0.593, total=   1.2s\n",
      "[CV] C=100, gamma=0.01, kernel=rbf ...................................\n",
      "[CV] ....... C=100, gamma=0.01, kernel=rbf, score=0.639, total=   2.1s\n",
      "[CV] C=100, gamma=0.01, kernel=rbf ...................................\n",
      "[CV] ....... C=100, gamma=0.01, kernel=rbf, score=0.646, total=   2.0s\n",
      "[CV] C=100, gamma=0.01, kernel=rbf ...................................\n",
      "[CV] ....... C=100, gamma=0.01, kernel=rbf, score=0.654, total=   2.0s\n",
      "[CV] C=100, gamma=0.001, kernel=rbf ..................................\n",
      "[CV] ...... C=100, gamma=0.001, kernel=rbf, score=0.680, total=   2.2s\n",
      "[CV] C=100, gamma=0.001, kernel=rbf ..................................\n",
      "[CV] ...... C=100, gamma=0.001, kernel=rbf, score=0.683, total=   3.4s\n",
      "[CV] C=100, gamma=0.001, kernel=rbf ..................................\n",
      "[CV] ...... C=100, gamma=0.001, kernel=rbf, score=0.683, total=   3.0s\n",
      "[CV] C=100, gamma=0.0001, kernel=rbf .................................\n",
      "[CV] ..... C=100, gamma=0.0001, kernel=rbf, score=0.689, total=   6.7s\n",
      "[CV] C=100, gamma=0.0001, kernel=rbf .................................\n",
      "[CV] ..... C=100, gamma=0.0001, kernel=rbf, score=0.679, total=  10.5s\n",
      "[CV] C=100, gamma=0.0001, kernel=rbf .................................\n",
      "[CV] ..... C=100, gamma=0.0001, kernel=rbf, score=0.684, total=   6.9s\n",
      "[CV] C=1000, gamma=1, kernel=rbf .....................................\n"
     ]
    },
    {
     "name": "stdout",
     "output_type": "stream",
     "text": [
      "[CV] ......... C=1000, gamma=1, kernel=rbf, score=0.635, total=   0.7s\n",
      "[CV] C=1000, gamma=1, kernel=rbf .....................................\n",
      "[CV] ......... C=1000, gamma=1, kernel=rbf, score=0.639, total=   0.7s\n",
      "[CV] C=1000, gamma=1, kernel=rbf .....................................\n",
      "[CV] ......... C=1000, gamma=1, kernel=rbf, score=0.661, total=   0.7s\n",
      "[CV] C=1000, gamma=0.1, kernel=rbf ...................................\n",
      "[CV] ....... C=1000, gamma=0.1, kernel=rbf, score=0.593, total=   1.2s\n",
      "[CV] C=1000, gamma=0.1, kernel=rbf ...................................\n",
      "[CV] ....... C=1000, gamma=0.1, kernel=rbf, score=0.578, total=   1.1s\n",
      "[CV] C=1000, gamma=0.1, kernel=rbf ...................................\n",
      "[CV] ....... C=1000, gamma=0.1, kernel=rbf, score=0.592, total=   1.2s\n",
      "[CV] C=1000, gamma=0.01, kernel=rbf ..................................\n",
      "[CV] ...... C=1000, gamma=0.01, kernel=rbf, score=0.605, total=  10.8s\n",
      "[CV] C=1000, gamma=0.01, kernel=rbf ..................................\n",
      "[CV] ...... C=1000, gamma=0.01, kernel=rbf, score=0.607, total=  10.7s\n",
      "[CV] C=1000, gamma=0.01, kernel=rbf ..................................\n",
      "[CV] ...... C=1000, gamma=0.01, kernel=rbf, score=0.611, total=  11.3s\n",
      "[CV] C=1000, gamma=0.001, kernel=rbf .................................\n",
      "[CV] ..... C=1000, gamma=0.001, kernel=rbf, score=0.684, total=   7.0s\n",
      "[CV] C=1000, gamma=0.001, kernel=rbf .................................\n",
      "[CV] ..... C=1000, gamma=0.001, kernel=rbf, score=0.684, total=  10.2s\n",
      "[CV] C=1000, gamma=0.001, kernel=rbf .................................\n",
      "[CV] ..... C=1000, gamma=0.001, kernel=rbf, score=0.681, total=   9.3s\n",
      "[CV] C=1000, gamma=0.0001, kernel=rbf ................................\n",
      "[CV] .... C=1000, gamma=0.0001, kernel=rbf, score=0.693, total=  16.9s\n",
      "[CV] C=1000, gamma=0.0001, kernel=rbf ................................\n",
      "[CV] .... C=1000, gamma=0.0001, kernel=rbf, score=0.683, total=  25.0s\n",
      "[CV] C=1000, gamma=0.0001, kernel=rbf ................................\n",
      "[CV] .... C=1000, gamma=0.0001, kernel=rbf, score=0.686, total=  20.5s\n"
     ]
    },
    {
     "name": "stderr",
     "output_type": "stream",
     "text": [
      "[Parallel(n_jobs=1)]: Done  75 out of  75 | elapsed:  3.6min finished\n"
     ]
    },
    {
     "data": {
      "text/plain": [
       "GridSearchCV(cv='warn', error_score='raise-deprecating',\n",
       "             estimator=SVC(C=1.0, cache_size=200, class_weight=None, coef0=0.0,\n",
       "                           decision_function_shape='ovr', degree=3,\n",
       "                           gamma='auto_deprecated', kernel='rbf', max_iter=-1,\n",
       "                           probability=False, random_state=None, shrinking=True,\n",
       "                           tol=0.001, verbose=False),\n",
       "             iid='warn', n_jobs=None,\n",
       "             param_grid={'C': [0.1, 1, 10, 100, 1000],\n",
       "                         'gamma': [1, 0.1, 0.01, 0.001, 0.0001],\n",
       "                         'kernel': ['rbf']},\n",
       "             pre_dispatch='2*n_jobs', refit=True, return_train_score=False,\n",
       "             scoring=None, verbose=3)"
      ]
     },
     "execution_count": 68,
     "metadata": {},
     "output_type": "execute_result"
    }
   ],
   "source": [
    "grid.fit(X_train, y_train)"
   ]
  },
  {
   "cell_type": "code",
   "execution_count": 69,
   "metadata": {},
   "outputs": [
    {
     "data": {
      "text/plain": [
       "{'C': 1000, 'gamma': 0.0001, 'kernel': 'rbf'}"
      ]
     },
     "execution_count": 69,
     "metadata": {},
     "output_type": "execute_result"
    }
   ],
   "source": [
    "grid.best_params_"
   ]
  },
  {
   "cell_type": "code",
   "execution_count": 70,
   "metadata": {},
   "outputs": [
    {
     "data": {
      "text/plain": [
       "SVC(C=1000, cache_size=200, class_weight=None, coef0=0.0,\n",
       "    decision_function_shape='ovr', degree=3, gamma=0.0001, kernel='rbf',\n",
       "    max_iter=-1, probability=False, random_state=None, shrinking=True,\n",
       "    tol=0.001, verbose=False)"
      ]
     },
     "execution_count": 70,
     "metadata": {},
     "output_type": "execute_result"
    }
   ],
   "source": [
    "grid.best_estimator_"
   ]
  },
  {
   "cell_type": "code",
   "execution_count": 71,
   "metadata": {},
   "outputs": [],
   "source": [
    "grid_predictions = grid.predict(X_test)"
   ]
  },
  {
   "cell_type": "code",
   "execution_count": 72,
   "metadata": {},
   "outputs": [
    {
     "name": "stdout",
     "output_type": "stream",
     "text": [
      "[[  47  614]\n",
      " [  48 1394]]\n"
     ]
    }
   ],
   "source": [
    "print(confusion_matrix(y_test,grid_predictions))"
   ]
  },
  {
   "cell_type": "code",
   "execution_count": 73,
   "metadata": {},
   "outputs": [
    {
     "name": "stdout",
     "output_type": "stream",
     "text": [
      "              precision    recall  f1-score   support\n",
      "\n",
      "       False       0.49      0.07      0.12       661\n",
      "        True       0.69      0.97      0.81      1442\n",
      "\n",
      "    accuracy                           0.69      2103\n",
      "   macro avg       0.59      0.52      0.47      2103\n",
      "weighted avg       0.63      0.69      0.59      2103\n",
      "\n"
     ]
    }
   ],
   "source": [
    "print(classification_report(y_test,grid_predictions))"
   ]
  },
  {
   "cell_type": "markdown",
   "metadata": {},
   "source": [
    "Aaaand it didn't help at all."
   ]
  },
  {
   "cell_type": "markdown",
   "metadata": {},
   "source": [
    "### Summary and limitations"
   ]
  },
  {
   "cell_type": "markdown",
   "metadata": {},
   "source": [
    "As I've stated at the beginning, I don't think that predicting somebody's graduation status based off their performance before they even started studying makes much sense, as there are too many external factors that come into play and might cause someone to not graduate:\n",
    "- bad education decisions (\"I don't want to be a doctor, it's just my family\")\n",
    "- health issues\n",
    "- family issues\n",
    "- socioeconomic status\n",
    "- etc.\n",
    "\n",
    "That being said, the models I prepared get up to 69% accuracy on the provided dataset (which makes them slightly better than a coin toss, though not much). There are still a few avenues I'd have gone into had I had enough time:\n",
    "- trying to uncouple the variables: many of the variables correlate better with each other than with the graduation status. Simply normalizing the data (either with min-max or a logarithmic scale) had no significant effect on the data, and with PCA I got an even better recall score but my precision was still at 0.69.\n",
    "- preparing a neural network model, because why not.\n",
    "\n",
    "Overall, I'm both disappointed and relieved by the results -- they're pretty bad but, as I've said, I don't think it's possible to get very good results without some form of abuse here. Abuse in this context would mean e.g. minimising the false positives (assessed as to-be graduates but never graduated) by not admitting anyone who shows any sign of potential dropout. Never do this, it'd be a [Weapon of Math Destruction](https://en.wikipedia.org/wiki/Weapons_of_Math_Destruction).\n",
    "\n",
    "Thank you for your attention!"
   ]
  }
 ],
 "metadata": {
  "kernelspec": {
   "display_name": "usr",
   "language": "python",
   "name": "usr"
  },
  "language_info": {
   "codemirror_mode": {
    "name": "ipython",
    "version": 3
   },
   "file_extension": ".py",
   "mimetype": "text/x-python",
   "name": "python",
   "nbconvert_exporter": "python",
   "pygments_lexer": "ipython3",
   "version": "3.7.3"
  }
 },
 "nbformat": 4,
 "nbformat_minor": 2
}
